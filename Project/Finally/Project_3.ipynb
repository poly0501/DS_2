{
  "nbformat": 4,
  "nbformat_minor": 0,
  "metadata": {
    "colab": {
      "name": "N_3.ipynb",
      "provenance": [],
      "collapsed_sections": [],
      "toc_visible": true
    },
    "kernelspec": {
      "name": "python3",
      "display_name": "Python 3"
    }
  },
  "cells": [
    {
      "cell_type": "code",
      "metadata": {
        "id": "vnC34OGPgPZX",
        "colab_type": "code",
        "colab": {}
      },
      "source": [
        "# !pip install xgboost\n",
        "# !pip install lightgbm\n",
        "# !pip install catboost"
      ],
      "execution_count": 0,
      "outputs": []
    },
    {
      "cell_type": "code",
      "metadata": {
        "id": "jmyxsy1Xj4hG",
        "colab_type": "code",
        "colab": {}
      },
      "source": [
        "import pandas as pd\n",
        "import numpy as np\n",
        "import pickle\n",
        "import random\n",
        "\n",
        "from sklearn.preprocessing import StandardScaler, MinMaxScaler\n",
        "from sklearn.model_selection import train_test_split, ShuffleSplit, cross_val_score, learning_curve\n",
        "from sklearn.model_selection import KFold, GridSearchCV, RandomizedSearchCV\n",
        "from sklearn.metrics import classification_report, f1_score, precision_score, recall_score\n",
        "\n",
        "from sklearn.linear_model import LogisticRegression\n",
        "from sklearn.neighbors import KNeighborsClassifier\n",
        "import xgboost as xgb, lightgbm as lgbm, catboost as catb\n",
        "\n",
        "import seaborn as sns\n",
        "from matplotlib import pyplot as plt\n",
        "%matplotlib inline"
      ],
      "execution_count": 0,
      "outputs": []
    },
    {
      "cell_type": "code",
      "metadata": {
        "id": "ler7aLW_kARC",
        "colab_type": "code",
        "colab": {}
      },
      "source": [
        "import warnings\n",
        "warnings.simplefilter('ignore')"
      ],
      "execution_count": 0,
      "outputs": []
    },
    {
      "cell_type": "code",
      "metadata": {
        "id": "sPvze0ORkMvh",
        "colab_type": "code",
        "colab": {}
      },
      "source": [
        "def get_classification_report(y_train_true, y_train_pred, y_test_true, y_test_pred):\n",
        "    print('TRAIN\\n\\n' + classification_report(y_train_true, y_train_pred))\n",
        "    print('TEST\\n\\n' + classification_report(y_test_true, y_test_pred))\n",
        "    \n",
        "    print('CONFUSION MATRIX TEST\\n')\n",
        "    print(pd.crosstab(y_test_true, y_test_pred))"
      ],
      "execution_count": 0,
      "outputs": []
    },
    {
      "cell_type": "code",
      "metadata": {
        "id": "OzCZmVdUkUmd",
        "colab_type": "code",
        "colab": {}
      },
      "source": [
        "def balance_df_by_target(df, target_name='Credit Default'):\n",
        "\n",
        "    target_counts = df[target_name].value_counts()\n",
        "\n",
        "    major_class_name = target_counts.argmax()\n",
        "    minor_class_name = target_counts.argmin()\n",
        "\n",
        "    disbalance_coeff = int(target_counts[major_class_name] / target_counts[minor_class_name]) - 1\n",
        "\n",
        "    for i in range(disbalance_coeff):\n",
        "        sample = df[df[target_name] == minor_class_name].sample(target_counts[minor_class_name])\n",
        "        df = df.append(sample, ignore_index=True)\n",
        "\n",
        "    return df.sample(frac=1) # случайное перемешивание данных"
      ],
      "execution_count": 0,
      "outputs": []
    },
    {
      "cell_type": "code",
      "metadata": {
        "id": "YUK3IVoEkpvu",
        "colab_type": "code",
        "colab": {}
      },
      "source": [
        "DATASET_PATH = 'course_project_train.csv'\n",
        "PREP_DATASET_PATH = 'course_project_train_prep_2.csv'\n",
        "\n",
        "SCALER_FILE_PATH = 'scaler.pkl'\n",
        "MODEL_FILE_PATH = 'model.pkl'"
      ],
      "execution_count": 0,
      "outputs": []
    },
    {
      "cell_type": "markdown",
      "metadata": {
        "id": "nXPO1F3uFXTt",
        "colab_type": "text"
      },
      "source": [
        "**Описание датасета**\n",
        "\n",
        "* **Home Ownership** - Домовладение (Home Mortgage, Rent, Own Home, Have Mortgage)\n",
        "* **Annual Income** - Годовой доход\n",
        "* **Years in current job** - Количество лет на текущем месте работы\n",
        "* **Tax Liens** - Налоговые обременения\n",
        "* **Number of Open Accounts** - Количество открытых счетов\n",
        "* **Years of Credit History** - Количество лет кредитной истории\n",
        "* **Maximum Open Credit** - Наибольший открытый кредит\n",
        "* **Number of Credit Problems** - Количество проблем с кредитом\n",
        "* **Months since last delinquent** - Количество месяцев с последней просрочки платежа\n",
        "* **Bankruptcies** - банкротство\n",
        "* **Purpose** - Цель кредита (debt consolidation, other, home improvements, business loan, buy a car, medical bills, major purchase, take a trip, buy house, small business, wedding, moving, educational expenses, vacation, renewable energy)\n",
        "* **Term** - Срок кредита (Long Term, Short Term)\n",
        "* **Current Loan Amount** - Текущая сумма кредита\n",
        "* **Current Credit Balance** - Текущий кредитный баланс\n",
        "* **Monthly Debt** - Ежемесячный долг\n",
        "* **Credit Score** - Счет кредита\n",
        "* **Credit Default** -  факт невыполнения кредитных обязательств (0 - погашен вовремя, 1 - просрочка)"
      ]
    },
    {
      "cell_type": "code",
      "metadata": {
        "id": "qEBPtCStlGGQ",
        "colab_type": "code",
        "outputId": "d279c0e3-d5e5-4b4b-f38f-b4248a7a42f5",
        "colab": {
          "base_uri": "https://localhost:8080/",
          "height": 395
        }
      },
      "source": [
        "df_base = pd.read_csv(DATASET_PATH)\n",
        "df = pd.read_csv(PREP_DATASET_PATH)\n",
        "\n",
        "df.head()"
      ],
      "execution_count": 620,
      "outputs": [
        {
          "output_type": "execute_result",
          "data": {
            "text/html": [
              "<div>\n",
              "<style scoped>\n",
              "    .dataframe tbody tr th:only-of-type {\n",
              "        vertical-align: middle;\n",
              "    }\n",
              "\n",
              "    .dataframe tbody tr th {\n",
              "        vertical-align: top;\n",
              "    }\n",
              "\n",
              "    .dataframe thead th {\n",
              "        text-align: right;\n",
              "    }\n",
              "</style>\n",
              "<table border=\"1\" class=\"dataframe\">\n",
              "  <thead>\n",
              "    <tr style=\"text-align: right;\">\n",
              "      <th></th>\n",
              "      <th>Home Ownership</th>\n",
              "      <th>Annual Income</th>\n",
              "      <th>Years in current job</th>\n",
              "      <th>Tax Liens</th>\n",
              "      <th>Number of Open Accounts</th>\n",
              "      <th>Years of Credit History</th>\n",
              "      <th>Maximum Open Credit</th>\n",
              "      <th>Number of Credit Problems</th>\n",
              "      <th>Months since last delinquent</th>\n",
              "      <th>Bankruptcies</th>\n",
              "      <th>Purpose</th>\n",
              "      <th>Term</th>\n",
              "      <th>Current Loan Amount</th>\n",
              "      <th>Current Credit Balance</th>\n",
              "      <th>Monthly Debt</th>\n",
              "      <th>Credit Score</th>\n",
              "      <th>Credit Default</th>\n",
              "      <th>ID</th>\n",
              "      <th>Years in current job_1 year</th>\n",
              "      <th>Years in current job_10+ years</th>\n",
              "      <th>Years in current job_2 years</th>\n",
              "      <th>Years in current job_3 years</th>\n",
              "      <th>Years in current job_4 years</th>\n",
              "      <th>Years in current job_5 years</th>\n",
              "      <th>Years in current job_6 years</th>\n",
              "      <th>Years in current job_7 years</th>\n",
              "      <th>Years in current job_8 years</th>\n",
              "      <th>Years in current job_9 years</th>\n",
              "      <th>Years in current job_&lt; 1 year</th>\n",
              "      <th>Tax Liens_0.0</th>\n",
              "      <th>Tax Liens_1.0</th>\n",
              "      <th>Tax Liens_2.0</th>\n",
              "      <th>Tax Liens_3.0</th>\n",
              "      <th>Tax Liens_4.0</th>\n",
              "      <th>Number of Open Accounts_10.0</th>\n",
              "      <th>Number of Open Accounts_11.0</th>\n",
              "      <th>Number of Open Accounts_12.0</th>\n",
              "      <th>Number of Open Accounts_13.0</th>\n",
              "      <th>Number of Open Accounts_14.0</th>\n",
              "      <th>Number of Open Accounts_15.0</th>\n",
              "      <th>...</th>\n",
              "      <th>Number of Open Accounts_20.0</th>\n",
              "      <th>Number of Open Accounts_21.0</th>\n",
              "      <th>Number of Open Accounts_22.0</th>\n",
              "      <th>Number of Open Accounts_23.0</th>\n",
              "      <th>Number of Open Accounts_24.0</th>\n",
              "      <th>Number of Open Accounts_25.0</th>\n",
              "      <th>Number of Open Accounts_3.0</th>\n",
              "      <th>Number of Open Accounts_4.0</th>\n",
              "      <th>Number of Open Accounts_5.0</th>\n",
              "      <th>Number of Open Accounts_6.0</th>\n",
              "      <th>Number of Open Accounts_7.0</th>\n",
              "      <th>Number of Open Accounts_8.0</th>\n",
              "      <th>Number of Open Accounts_9.0</th>\n",
              "      <th>Number of Credit Problems_0.0</th>\n",
              "      <th>Number of Credit Problems_1.0</th>\n",
              "      <th>Number of Credit Problems_2.0</th>\n",
              "      <th>Number of Credit Problems_3.0</th>\n",
              "      <th>Number of Credit Problems_4.0</th>\n",
              "      <th>Bankruptcies_0.0</th>\n",
              "      <th>Bankruptcies_1.0</th>\n",
              "      <th>Bankruptcies_2.0</th>\n",
              "      <th>Bankruptcies_nan</th>\n",
              "      <th>Purpose_business loan</th>\n",
              "      <th>Purpose_buy a car</th>\n",
              "      <th>Purpose_buy house</th>\n",
              "      <th>Purpose_debt consolidation</th>\n",
              "      <th>Purpose_educational expenses</th>\n",
              "      <th>Purpose_home improvements</th>\n",
              "      <th>Purpose_major purchase</th>\n",
              "      <th>Purpose_medical bills</th>\n",
              "      <th>Purpose_moving</th>\n",
              "      <th>Purpose_other</th>\n",
              "      <th>Purpose_renewable energy</th>\n",
              "      <th>Purpose_small business</th>\n",
              "      <th>Purpose_take a trip</th>\n",
              "      <th>Purpose_vacation</th>\n",
              "      <th>Purpose_wedding</th>\n",
              "      <th>Term_Long Term</th>\n",
              "      <th>Term_Short Term</th>\n",
              "      <th>Average amount on 1 account</th>\n",
              "    </tr>\n",
              "  </thead>\n",
              "  <tbody>\n",
              "    <tr>\n",
              "      <th>0</th>\n",
              "      <td>Own Home</td>\n",
              "      <td>482087.0</td>\n",
              "      <td>10+ years</td>\n",
              "      <td>0.0</td>\n",
              "      <td>1.0</td>\n",
              "      <td>26.3</td>\n",
              "      <td>685960.0</td>\n",
              "      <td>1.0</td>\n",
              "      <td>15.8152</td>\n",
              "      <td>1.0</td>\n",
              "      <td>debt consolidation</td>\n",
              "      <td>Short Term</td>\n",
              "      <td>99999999.0</td>\n",
              "      <td>47386.0</td>\n",
              "      <td>7914.0</td>\n",
              "      <td>749.0</td>\n",
              "      <td>0</td>\n",
              "      <td>0</td>\n",
              "      <td>0</td>\n",
              "      <td>1</td>\n",
              "      <td>0</td>\n",
              "      <td>0</td>\n",
              "      <td>0</td>\n",
              "      <td>0</td>\n",
              "      <td>0</td>\n",
              "      <td>0</td>\n",
              "      <td>0</td>\n",
              "      <td>0</td>\n",
              "      <td>0</td>\n",
              "      <td>1</td>\n",
              "      <td>0</td>\n",
              "      <td>0</td>\n",
              "      <td>0</td>\n",
              "      <td>0</td>\n",
              "      <td>0</td>\n",
              "      <td>1</td>\n",
              "      <td>0</td>\n",
              "      <td>0</td>\n",
              "      <td>0</td>\n",
              "      <td>0</td>\n",
              "      <td>...</td>\n",
              "      <td>0</td>\n",
              "      <td>0</td>\n",
              "      <td>0</td>\n",
              "      <td>0</td>\n",
              "      <td>0</td>\n",
              "      <td>0</td>\n",
              "      <td>0</td>\n",
              "      <td>0</td>\n",
              "      <td>0</td>\n",
              "      <td>0</td>\n",
              "      <td>0</td>\n",
              "      <td>0</td>\n",
              "      <td>0</td>\n",
              "      <td>0</td>\n",
              "      <td>1</td>\n",
              "      <td>0</td>\n",
              "      <td>0</td>\n",
              "      <td>0</td>\n",
              "      <td>0</td>\n",
              "      <td>1</td>\n",
              "      <td>0</td>\n",
              "      <td>0</td>\n",
              "      <td>0</td>\n",
              "      <td>0</td>\n",
              "      <td>0</td>\n",
              "      <td>1</td>\n",
              "      <td>0</td>\n",
              "      <td>0</td>\n",
              "      <td>0</td>\n",
              "      <td>0</td>\n",
              "      <td>0</td>\n",
              "      <td>0</td>\n",
              "      <td>0</td>\n",
              "      <td>0</td>\n",
              "      <td>0</td>\n",
              "      <td>0</td>\n",
              "      <td>0</td>\n",
              "      <td>0</td>\n",
              "      <td>1</td>\n",
              "      <td>749.0</td>\n",
              "    </tr>\n",
              "    <tr>\n",
              "      <th>1</th>\n",
              "      <td>Own Home</td>\n",
              "      <td>1025487.0</td>\n",
              "      <td>10+ years</td>\n",
              "      <td>0.0</td>\n",
              "      <td>1.0</td>\n",
              "      <td>15.3</td>\n",
              "      <td>1181730.0</td>\n",
              "      <td>1.0</td>\n",
              "      <td>15.8152</td>\n",
              "      <td>0.0</td>\n",
              "      <td>debt consolidation</td>\n",
              "      <td>Long Term</td>\n",
              "      <td>264968.0</td>\n",
              "      <td>394972.0</td>\n",
              "      <td>18373.0</td>\n",
              "      <td>737.0</td>\n",
              "      <td>1</td>\n",
              "      <td>1</td>\n",
              "      <td>0</td>\n",
              "      <td>1</td>\n",
              "      <td>0</td>\n",
              "      <td>0</td>\n",
              "      <td>0</td>\n",
              "      <td>0</td>\n",
              "      <td>0</td>\n",
              "      <td>0</td>\n",
              "      <td>0</td>\n",
              "      <td>0</td>\n",
              "      <td>0</td>\n",
              "      <td>1</td>\n",
              "      <td>0</td>\n",
              "      <td>0</td>\n",
              "      <td>0</td>\n",
              "      <td>0</td>\n",
              "      <td>0</td>\n",
              "      <td>0</td>\n",
              "      <td>0</td>\n",
              "      <td>0</td>\n",
              "      <td>0</td>\n",
              "      <td>1</td>\n",
              "      <td>...</td>\n",
              "      <td>0</td>\n",
              "      <td>0</td>\n",
              "      <td>0</td>\n",
              "      <td>0</td>\n",
              "      <td>0</td>\n",
              "      <td>0</td>\n",
              "      <td>0</td>\n",
              "      <td>0</td>\n",
              "      <td>0</td>\n",
              "      <td>0</td>\n",
              "      <td>0</td>\n",
              "      <td>0</td>\n",
              "      <td>0</td>\n",
              "      <td>1</td>\n",
              "      <td>0</td>\n",
              "      <td>0</td>\n",
              "      <td>0</td>\n",
              "      <td>0</td>\n",
              "      <td>1</td>\n",
              "      <td>0</td>\n",
              "      <td>0</td>\n",
              "      <td>0</td>\n",
              "      <td>0</td>\n",
              "      <td>0</td>\n",
              "      <td>0</td>\n",
              "      <td>1</td>\n",
              "      <td>0</td>\n",
              "      <td>0</td>\n",
              "      <td>0</td>\n",
              "      <td>0</td>\n",
              "      <td>0</td>\n",
              "      <td>0</td>\n",
              "      <td>0</td>\n",
              "      <td>0</td>\n",
              "      <td>0</td>\n",
              "      <td>0</td>\n",
              "      <td>0</td>\n",
              "      <td>1</td>\n",
              "      <td>0</td>\n",
              "      <td>737.0</td>\n",
              "    </tr>\n",
              "    <tr>\n",
              "      <th>2</th>\n",
              "      <td>Home Mortgage</td>\n",
              "      <td>751412.0</td>\n",
              "      <td>8 years</td>\n",
              "      <td>0.0</td>\n",
              "      <td>1.0</td>\n",
              "      <td>35.0</td>\n",
              "      <td>1182434.0</td>\n",
              "      <td>1.0</td>\n",
              "      <td>15.8152</td>\n",
              "      <td>0.0</td>\n",
              "      <td>debt consolidation</td>\n",
              "      <td>Short Term</td>\n",
              "      <td>99999999.0</td>\n",
              "      <td>308389.0</td>\n",
              "      <td>13651.0</td>\n",
              "      <td>742.0</td>\n",
              "      <td>0</td>\n",
              "      <td>2</td>\n",
              "      <td>0</td>\n",
              "      <td>0</td>\n",
              "      <td>0</td>\n",
              "      <td>0</td>\n",
              "      <td>0</td>\n",
              "      <td>0</td>\n",
              "      <td>0</td>\n",
              "      <td>0</td>\n",
              "      <td>1</td>\n",
              "      <td>0</td>\n",
              "      <td>0</td>\n",
              "      <td>1</td>\n",
              "      <td>0</td>\n",
              "      <td>0</td>\n",
              "      <td>0</td>\n",
              "      <td>0</td>\n",
              "      <td>0</td>\n",
              "      <td>1</td>\n",
              "      <td>0</td>\n",
              "      <td>0</td>\n",
              "      <td>0</td>\n",
              "      <td>0</td>\n",
              "      <td>...</td>\n",
              "      <td>0</td>\n",
              "      <td>0</td>\n",
              "      <td>0</td>\n",
              "      <td>0</td>\n",
              "      <td>0</td>\n",
              "      <td>0</td>\n",
              "      <td>0</td>\n",
              "      <td>0</td>\n",
              "      <td>0</td>\n",
              "      <td>0</td>\n",
              "      <td>0</td>\n",
              "      <td>0</td>\n",
              "      <td>0</td>\n",
              "      <td>1</td>\n",
              "      <td>0</td>\n",
              "      <td>0</td>\n",
              "      <td>0</td>\n",
              "      <td>0</td>\n",
              "      <td>1</td>\n",
              "      <td>0</td>\n",
              "      <td>0</td>\n",
              "      <td>0</td>\n",
              "      <td>0</td>\n",
              "      <td>0</td>\n",
              "      <td>0</td>\n",
              "      <td>1</td>\n",
              "      <td>0</td>\n",
              "      <td>0</td>\n",
              "      <td>0</td>\n",
              "      <td>0</td>\n",
              "      <td>0</td>\n",
              "      <td>0</td>\n",
              "      <td>0</td>\n",
              "      <td>0</td>\n",
              "      <td>0</td>\n",
              "      <td>0</td>\n",
              "      <td>0</td>\n",
              "      <td>0</td>\n",
              "      <td>1</td>\n",
              "      <td>742.0</td>\n",
              "    </tr>\n",
              "    <tr>\n",
              "      <th>3</th>\n",
              "      <td>Own Home</td>\n",
              "      <td>805068.0</td>\n",
              "      <td>6 years</td>\n",
              "      <td>0.0</td>\n",
              "      <td>1.0</td>\n",
              "      <td>22.5</td>\n",
              "      <td>147400.0</td>\n",
              "      <td>1.0</td>\n",
              "      <td>15.8152</td>\n",
              "      <td>1.0</td>\n",
              "      <td>debt consolidation</td>\n",
              "      <td>Short Term</td>\n",
              "      <td>121396.0</td>\n",
              "      <td>95855.0</td>\n",
              "      <td>11338.0</td>\n",
              "      <td>694.0</td>\n",
              "      <td>0</td>\n",
              "      <td>3</td>\n",
              "      <td>0</td>\n",
              "      <td>0</td>\n",
              "      <td>0</td>\n",
              "      <td>0</td>\n",
              "      <td>0</td>\n",
              "      <td>0</td>\n",
              "      <td>1</td>\n",
              "      <td>0</td>\n",
              "      <td>0</td>\n",
              "      <td>0</td>\n",
              "      <td>0</td>\n",
              "      <td>1</td>\n",
              "      <td>0</td>\n",
              "      <td>0</td>\n",
              "      <td>0</td>\n",
              "      <td>0</td>\n",
              "      <td>0</td>\n",
              "      <td>0</td>\n",
              "      <td>0</td>\n",
              "      <td>0</td>\n",
              "      <td>0</td>\n",
              "      <td>0</td>\n",
              "      <td>...</td>\n",
              "      <td>0</td>\n",
              "      <td>0</td>\n",
              "      <td>0</td>\n",
              "      <td>0</td>\n",
              "      <td>0</td>\n",
              "      <td>0</td>\n",
              "      <td>0</td>\n",
              "      <td>0</td>\n",
              "      <td>0</td>\n",
              "      <td>0</td>\n",
              "      <td>0</td>\n",
              "      <td>1</td>\n",
              "      <td>0</td>\n",
              "      <td>0</td>\n",
              "      <td>1</td>\n",
              "      <td>0</td>\n",
              "      <td>0</td>\n",
              "      <td>0</td>\n",
              "      <td>0</td>\n",
              "      <td>1</td>\n",
              "      <td>0</td>\n",
              "      <td>0</td>\n",
              "      <td>0</td>\n",
              "      <td>0</td>\n",
              "      <td>0</td>\n",
              "      <td>1</td>\n",
              "      <td>0</td>\n",
              "      <td>0</td>\n",
              "      <td>0</td>\n",
              "      <td>0</td>\n",
              "      <td>0</td>\n",
              "      <td>0</td>\n",
              "      <td>0</td>\n",
              "      <td>0</td>\n",
              "      <td>0</td>\n",
              "      <td>0</td>\n",
              "      <td>0</td>\n",
              "      <td>0</td>\n",
              "      <td>1</td>\n",
              "      <td>694.0</td>\n",
              "    </tr>\n",
              "    <tr>\n",
              "      <th>4</th>\n",
              "      <td>Rent</td>\n",
              "      <td>776264.0</td>\n",
              "      <td>8 years</td>\n",
              "      <td>0.0</td>\n",
              "      <td>1.0</td>\n",
              "      <td>13.6</td>\n",
              "      <td>385836.0</td>\n",
              "      <td>1.0</td>\n",
              "      <td>15.8152</td>\n",
              "      <td>0.0</td>\n",
              "      <td>debt consolidation</td>\n",
              "      <td>Short Term</td>\n",
              "      <td>125840.0</td>\n",
              "      <td>93309.0</td>\n",
              "      <td>7180.0</td>\n",
              "      <td>719.0</td>\n",
              "      <td>0</td>\n",
              "      <td>4</td>\n",
              "      <td>0</td>\n",
              "      <td>0</td>\n",
              "      <td>0</td>\n",
              "      <td>0</td>\n",
              "      <td>0</td>\n",
              "      <td>0</td>\n",
              "      <td>0</td>\n",
              "      <td>0</td>\n",
              "      <td>1</td>\n",
              "      <td>0</td>\n",
              "      <td>0</td>\n",
              "      <td>1</td>\n",
              "      <td>0</td>\n",
              "      <td>0</td>\n",
              "      <td>0</td>\n",
              "      <td>0</td>\n",
              "      <td>0</td>\n",
              "      <td>0</td>\n",
              "      <td>0</td>\n",
              "      <td>1</td>\n",
              "      <td>0</td>\n",
              "      <td>0</td>\n",
              "      <td>...</td>\n",
              "      <td>0</td>\n",
              "      <td>0</td>\n",
              "      <td>0</td>\n",
              "      <td>0</td>\n",
              "      <td>0</td>\n",
              "      <td>0</td>\n",
              "      <td>0</td>\n",
              "      <td>0</td>\n",
              "      <td>0</td>\n",
              "      <td>0</td>\n",
              "      <td>0</td>\n",
              "      <td>0</td>\n",
              "      <td>0</td>\n",
              "      <td>0</td>\n",
              "      <td>1</td>\n",
              "      <td>0</td>\n",
              "      <td>0</td>\n",
              "      <td>0</td>\n",
              "      <td>1</td>\n",
              "      <td>0</td>\n",
              "      <td>0</td>\n",
              "      <td>0</td>\n",
              "      <td>0</td>\n",
              "      <td>0</td>\n",
              "      <td>0</td>\n",
              "      <td>1</td>\n",
              "      <td>0</td>\n",
              "      <td>0</td>\n",
              "      <td>0</td>\n",
              "      <td>0</td>\n",
              "      <td>0</td>\n",
              "      <td>0</td>\n",
              "      <td>0</td>\n",
              "      <td>0</td>\n",
              "      <td>0</td>\n",
              "      <td>0</td>\n",
              "      <td>0</td>\n",
              "      <td>0</td>\n",
              "      <td>1</td>\n",
              "      <td>719.0</td>\n",
              "    </tr>\n",
              "  </tbody>\n",
              "</table>\n",
              "<p>5 rows × 85 columns</p>\n",
              "</div>"
            ],
            "text/plain": [
              "  Home Ownership  Annual Income  ... Term_Short Term  Average amount on 1 account\n",
              "0       Own Home       482087.0  ...               1                        749.0\n",
              "1       Own Home      1025487.0  ...               0                        737.0\n",
              "2  Home Mortgage       751412.0  ...               1                        742.0\n",
              "3       Own Home       805068.0  ...               1                        694.0\n",
              "4           Rent       776264.0  ...               1                        719.0\n",
              "\n",
              "[5 rows x 85 columns]"
            ]
          },
          "metadata": {
            "tags": []
          },
          "execution_count": 620
        }
      ]
    },
    {
      "cell_type": "code",
      "metadata": {
        "id": "kWld4O3IiTzc",
        "colab_type": "code",
        "colab": {}
      },
      "source": [
        "# len(df) - df.count()"
      ],
      "execution_count": 0,
      "outputs": []
    },
    {
      "cell_type": "code",
      "metadata": {
        "id": "Wdo0QA8sZlgA",
        "colab_type": "code",
        "colab": {}
      },
      "source": [
        "df=df.fillna(method ='bfill')\n",
        "df_base=df_base.fillna(method ='bfill')\n",
        "df=df.fillna(0)\n",
        "df_base=df_base.fillna(0)"
      ],
      "execution_count": 0,
      "outputs": []
    },
    {
      "cell_type": "markdown",
      "metadata": {
        "id": "B5Rga4VlmZXS",
        "colab_type": "text"
      },
      "source": [
        "**Выделение целевой переменной и групп признаков**"
      ]
    },
    {
      "cell_type": "code",
      "metadata": {
        "id": "KMvNEOuCmazS",
        "colab_type": "code",
        "outputId": "03578a31-7921-4da7-9628-2910baddfbf4",
        "colab": {
          "base_uri": "https://localhost:8080/",
          "height": 1000
        }
      },
      "source": [
        "TARGET_NAME = 'Credit Default'\n",
        "BASE_FEATURE_NAMES = df_base.columns.drop(TARGET_NAME).tolist()\n",
        "NEW_FEATURE_NAMES = df.columns.drop([TARGET_NAME, 'ID'] + BASE_FEATURE_NAMES).tolist()\n",
        "NEW_FEATURE_NAMES"
      ],
      "execution_count": 623,
      "outputs": [
        {
          "output_type": "execute_result",
          "data": {
            "text/plain": [
              "['Years in current job_1 year',\n",
              " 'Years in current job_10+ years',\n",
              " 'Years in current job_2 years',\n",
              " 'Years in current job_3 years',\n",
              " 'Years in current job_4 years',\n",
              " 'Years in current job_5 years',\n",
              " 'Years in current job_6 years',\n",
              " 'Years in current job_7 years',\n",
              " 'Years in current job_8 years',\n",
              " 'Years in current job_9 years',\n",
              " 'Years in current job_< 1 year',\n",
              " 'Tax Liens_0.0',\n",
              " 'Tax Liens_1.0',\n",
              " 'Tax Liens_2.0',\n",
              " 'Tax Liens_3.0',\n",
              " 'Tax Liens_4.0',\n",
              " 'Number of Open Accounts_10.0',\n",
              " 'Number of Open Accounts_11.0',\n",
              " 'Number of Open Accounts_12.0',\n",
              " 'Number of Open Accounts_13.0',\n",
              " 'Number of Open Accounts_14.0',\n",
              " 'Number of Open Accounts_15.0',\n",
              " 'Number of Open Accounts_16.0',\n",
              " 'Number of Open Accounts_17.0',\n",
              " 'Number of Open Accounts_18.0',\n",
              " 'Number of Open Accounts_19.0',\n",
              " 'Number of Open Accounts_2.0',\n",
              " 'Number of Open Accounts_20.0',\n",
              " 'Number of Open Accounts_21.0',\n",
              " 'Number of Open Accounts_22.0',\n",
              " 'Number of Open Accounts_23.0',\n",
              " 'Number of Open Accounts_24.0',\n",
              " 'Number of Open Accounts_25.0',\n",
              " 'Number of Open Accounts_3.0',\n",
              " 'Number of Open Accounts_4.0',\n",
              " 'Number of Open Accounts_5.0',\n",
              " 'Number of Open Accounts_6.0',\n",
              " 'Number of Open Accounts_7.0',\n",
              " 'Number of Open Accounts_8.0',\n",
              " 'Number of Open Accounts_9.0',\n",
              " 'Number of Credit Problems_0.0',\n",
              " 'Number of Credit Problems_1.0',\n",
              " 'Number of Credit Problems_2.0',\n",
              " 'Number of Credit Problems_3.0',\n",
              " 'Number of Credit Problems_4.0',\n",
              " 'Bankruptcies_0.0',\n",
              " 'Bankruptcies_1.0',\n",
              " 'Bankruptcies_2.0',\n",
              " 'Bankruptcies_nan',\n",
              " 'Purpose_business loan',\n",
              " 'Purpose_buy a car',\n",
              " 'Purpose_buy house',\n",
              " 'Purpose_debt consolidation',\n",
              " 'Purpose_educational expenses',\n",
              " 'Purpose_home improvements',\n",
              " 'Purpose_major purchase',\n",
              " 'Purpose_medical bills',\n",
              " 'Purpose_moving',\n",
              " 'Purpose_other',\n",
              " 'Purpose_renewable energy',\n",
              " 'Purpose_small business',\n",
              " 'Purpose_take a trip',\n",
              " 'Purpose_vacation',\n",
              " 'Purpose_wedding',\n",
              " 'Term_Long Term',\n",
              " 'Term_Short Term',\n",
              " 'Average amount on 1 account']"
            ]
          },
          "metadata": {
            "tags": []
          },
          "execution_count": 623
        }
      ]
    },
    {
      "cell_type": "markdown",
      "metadata": {
        "id": "9vTLBerdmoco",
        "colab_type": "text"
      },
      "source": [
        "### Отбор признаков"
      ]
    },
    {
      "cell_type": "code",
      "metadata": {
        "id": "kI4RO1-Hm9wW",
        "colab_type": "code",
        "colab": {}
      },
      "source": [
        "# list(df)"
      ],
      "execution_count": 0,
      "outputs": []
    },
    {
      "cell_type": "code",
      "metadata": {
        "id": "3k6NPmugmkhK",
        "colab_type": "code",
        "outputId": "601c7401-fabb-438a-c8d2-6b91c8bc07a3",
        "colab": {
          "base_uri": "https://localhost:8080/",
          "height": 1000
        }
      },
      "source": [
        "NUMERIC_FEATURE_NAMES = [\n",
        " 'Annual Income',\n",
        " 'Number of Open Accounts',\n",
        " 'Maximum Open Credit',\n",
        " 'Number of Credit Problems',\n",
        " 'Bankruptcies',\n",
        " 'Current Credit Balance',\n",
        " 'Monthly Debt',\n",
        " 'Credit Score',\n",
        " 'Average amount on 1 account']\n",
        "\n",
        "FEATURE_NAMES_SELECTED = NUMERIC_FEATURE_NAMES + NEW_FEATURE_NAMES\n",
        "FEATURE_NAMES_SELECTED"
      ],
      "execution_count": 625,
      "outputs": [
        {
          "output_type": "execute_result",
          "data": {
            "text/plain": [
              "['Annual Income',\n",
              " 'Number of Open Accounts',\n",
              " 'Maximum Open Credit',\n",
              " 'Number of Credit Problems',\n",
              " 'Bankruptcies',\n",
              " 'Current Credit Balance',\n",
              " 'Monthly Debt',\n",
              " 'Credit Score',\n",
              " 'Average amount on 1 account',\n",
              " 'Years in current job_1 year',\n",
              " 'Years in current job_10+ years',\n",
              " 'Years in current job_2 years',\n",
              " 'Years in current job_3 years',\n",
              " 'Years in current job_4 years',\n",
              " 'Years in current job_5 years',\n",
              " 'Years in current job_6 years',\n",
              " 'Years in current job_7 years',\n",
              " 'Years in current job_8 years',\n",
              " 'Years in current job_9 years',\n",
              " 'Years in current job_< 1 year',\n",
              " 'Tax Liens_0.0',\n",
              " 'Tax Liens_1.0',\n",
              " 'Tax Liens_2.0',\n",
              " 'Tax Liens_3.0',\n",
              " 'Tax Liens_4.0',\n",
              " 'Number of Open Accounts_10.0',\n",
              " 'Number of Open Accounts_11.0',\n",
              " 'Number of Open Accounts_12.0',\n",
              " 'Number of Open Accounts_13.0',\n",
              " 'Number of Open Accounts_14.0',\n",
              " 'Number of Open Accounts_15.0',\n",
              " 'Number of Open Accounts_16.0',\n",
              " 'Number of Open Accounts_17.0',\n",
              " 'Number of Open Accounts_18.0',\n",
              " 'Number of Open Accounts_19.0',\n",
              " 'Number of Open Accounts_2.0',\n",
              " 'Number of Open Accounts_20.0',\n",
              " 'Number of Open Accounts_21.0',\n",
              " 'Number of Open Accounts_22.0',\n",
              " 'Number of Open Accounts_23.0',\n",
              " 'Number of Open Accounts_24.0',\n",
              " 'Number of Open Accounts_25.0',\n",
              " 'Number of Open Accounts_3.0',\n",
              " 'Number of Open Accounts_4.0',\n",
              " 'Number of Open Accounts_5.0',\n",
              " 'Number of Open Accounts_6.0',\n",
              " 'Number of Open Accounts_7.0',\n",
              " 'Number of Open Accounts_8.0',\n",
              " 'Number of Open Accounts_9.0',\n",
              " 'Number of Credit Problems_0.0',\n",
              " 'Number of Credit Problems_1.0',\n",
              " 'Number of Credit Problems_2.0',\n",
              " 'Number of Credit Problems_3.0',\n",
              " 'Number of Credit Problems_4.0',\n",
              " 'Bankruptcies_0.0',\n",
              " 'Bankruptcies_1.0',\n",
              " 'Bankruptcies_2.0',\n",
              " 'Bankruptcies_nan',\n",
              " 'Purpose_business loan',\n",
              " 'Purpose_buy a car',\n",
              " 'Purpose_buy house',\n",
              " 'Purpose_debt consolidation',\n",
              " 'Purpose_educational expenses',\n",
              " 'Purpose_home improvements',\n",
              " 'Purpose_major purchase',\n",
              " 'Purpose_medical bills',\n",
              " 'Purpose_moving',\n",
              " 'Purpose_other',\n",
              " 'Purpose_renewable energy',\n",
              " 'Purpose_small business',\n",
              " 'Purpose_take a trip',\n",
              " 'Purpose_vacation',\n",
              " 'Purpose_wedding',\n",
              " 'Term_Long Term',\n",
              " 'Term_Short Term',\n",
              " 'Average amount on 1 account']"
            ]
          },
          "metadata": {
            "tags": []
          },
          "execution_count": 625
        }
      ]
    },
    {
      "cell_type": "code",
      "metadata": {
        "id": "tEYvjeVSnhHL",
        "colab_type": "code",
        "colab": {}
      },
      "source": [
        "scaler = StandardScaler()\n",
        "\n",
        "df_norm = df.copy()\n",
        "df_norm[NUMERIC_FEATURE_NAMES] = scaler.fit_transform(df_norm[NUMERIC_FEATURE_NAMES])\n",
        "\n",
        "\n",
        "df = df_norm.copy()"
      ],
      "execution_count": 0,
      "outputs": []
    },
    {
      "cell_type": "markdown",
      "metadata": {
        "id": "NONHoTMvPj_A",
        "colab_type": "text"
      },
      "source": [
        "### Разбиение на train и test"
      ]
    },
    {
      "cell_type": "code",
      "metadata": {
        "id": "PfA8hJyuPoyb",
        "colab_type": "code",
        "colab": {}
      },
      "source": [
        "X = df[FEATURE_NAMES_SELECTED]\n",
        "y = df[TARGET_NAME]\n",
        "\n",
        "X_train, X_test, y_train, y_test = train_test_split(X, y, shuffle=True, test_size=0.25, random_state=211)"
      ],
      "execution_count": 0,
      "outputs": []
    },
    {
      "cell_type": "markdown",
      "metadata": {
        "id": "KCZNE1nsPvym",
        "colab_type": "text"
      },
      "source": [
        "### Балансировка целевой переменной"
      ]
    },
    {
      "cell_type": "code",
      "metadata": {
        "id": "Pnf1M7r5PixZ",
        "colab_type": "code",
        "colab": {
          "base_uri": "https://localhost:8080/",
          "height": 67
        },
        "outputId": "0f16f131-d7a9-4d69-af93-ae5eef72467b"
      },
      "source": [
        "df_for_balancing = pd.concat([X_train, y_train], axis=1)\n",
        "df_balanced = balance_df_by_target(df_for_balancing, TARGET_NAME)\n",
        "    \n",
        "df_balanced[TARGET_NAME].value_counts()"
      ],
      "execution_count": 628,
      "outputs": [
        {
          "output_type": "execute_result",
          "data": {
            "text/plain": [
              "0    4047\n",
              "1    3156\n",
              "Name: Credit Default, dtype: int64"
            ]
          },
          "metadata": {
            "tags": []
          },
          "execution_count": 628
        }
      ]
    },
    {
      "cell_type": "code",
      "metadata": {
        "id": "NImJbgOmUvNN",
        "colab_type": "code",
        "colab": {}
      },
      "source": [
        "X_train = df_balanced.drop(columns=TARGET_NAME)\n",
        "y_train = df_balanced[TARGET_NAME]"
      ],
      "execution_count": 0,
      "outputs": []
    },
    {
      "cell_type": "markdown",
      "metadata": {
        "id": "sVCmHxmzU4X5",
        "colab_type": "text"
      },
      "source": [
        "### Построение и оценка базовых моделей"
      ]
    },
    {
      "cell_type": "markdown",
      "metadata": {
        "id": "NMFSxNUkU_8k",
        "colab_type": "text"
      },
      "source": [
        "**Логистическая регрессия**"
      ]
    },
    {
      "cell_type": "code",
      "metadata": {
        "id": "4KobBToCU1Ac",
        "colab_type": "code",
        "colab": {
          "base_uri": "https://localhost:8080/",
          "height": 487
        },
        "outputId": "63cc41fa-aaef-4084-bf55-671a0646f138"
      },
      "source": [
        "model_lr = LogisticRegression()\n",
        "model_lr.fit(X_train, y_train)\n",
        "\n",
        "y_train_pred = model_lr.predict(X_train)\n",
        "y_test_pred = model_lr.predict(X_test)\n",
        "\n",
        "get_classification_report(y_train, y_train_pred, y_test, y_test_pred)"
      ],
      "execution_count": 630,
      "outputs": [
        {
          "output_type": "stream",
          "text": [
            "TRAIN\n",
            "\n",
            "              precision    recall  f1-score   support\n",
            "\n",
            "           0       0.67      0.86      0.75      4047\n",
            "           1       0.72      0.46      0.56      3156\n",
            "\n",
            "    accuracy                           0.69      7203\n",
            "   macro avg       0.70      0.66      0.66      7203\n",
            "weighted avg       0.69      0.69      0.67      7203\n",
            "\n",
            "TEST\n",
            "\n",
            "              precision    recall  f1-score   support\n",
            "\n",
            "           0       0.80      0.86      0.83      1340\n",
            "           1       0.57      0.46      0.51       535\n",
            "\n",
            "    accuracy                           0.75      1875\n",
            "   macro avg       0.69      0.66      0.67      1875\n",
            "weighted avg       0.74      0.75      0.74      1875\n",
            "\n",
            "CONFUSION MATRIX TEST\n",
            "\n",
            "col_0              0    1\n",
            "Credit Default           \n",
            "0               1159  181\n",
            "1                291  244\n"
          ],
          "name": "stdout"
        }
      ]
    },
    {
      "cell_type": "markdown",
      "metadata": {
        "id": "saixo23zV22o",
        "colab_type": "text"
      },
      "source": [
        "**k ближайших соседей**"
      ]
    },
    {
      "cell_type": "code",
      "metadata": {
        "id": "O0cTRsqVVxrf",
        "colab_type": "code",
        "colab": {
          "base_uri": "https://localhost:8080/",
          "height": 34
        },
        "outputId": "1bf8e389-ba6e-4b9e-cf19-0f0e6b3d220b"
      },
      "source": [
        "KNeighborsClassifier"
      ],
      "execution_count": 631,
      "outputs": [
        {
          "output_type": "execute_result",
          "data": {
            "text/plain": [
              "sklearn.neighbors._classification.KNeighborsClassifier"
            ]
          },
          "metadata": {
            "tags": []
          },
          "execution_count": 631
        }
      ]
    },
    {
      "cell_type": "code",
      "metadata": {
        "id": "lZPsSpXJV9qT",
        "colab_type": "code",
        "colab": {
          "base_uri": "https://localhost:8080/",
          "height": 487
        },
        "outputId": "f4d163df-ee48-42e0-a43e-09aab2d93464"
      },
      "source": [
        "model_knn = KNeighborsClassifier(n_neighbors=12)\n",
        "model_knn.fit(X_train, y_train)\n",
        "\n",
        "y_train_pred = model_knn.predict(X_train)\n",
        "y_test_pred = model_knn.predict(X_test)\n",
        "\n",
        "get_classification_report(y_train, y_train_pred, y_test, y_test_pred)"
      ],
      "execution_count": 632,
      "outputs": [
        {
          "output_type": "stream",
          "text": [
            "TRAIN\n",
            "\n",
            "              precision    recall  f1-score   support\n",
            "\n",
            "           0       0.69      0.90      0.78      4047\n",
            "           1       0.79      0.49      0.61      3156\n",
            "\n",
            "    accuracy                           0.72      7203\n",
            "   macro avg       0.74      0.69      0.69      7203\n",
            "weighted avg       0.74      0.72      0.71      7203\n",
            "\n",
            "TEST\n",
            "\n",
            "              precision    recall  f1-score   support\n",
            "\n",
            "           0       0.77      0.84      0.81      1340\n",
            "           1       0.49      0.38      0.43       535\n",
            "\n",
            "    accuracy                           0.71      1875\n",
            "   macro avg       0.63      0.61      0.62      1875\n",
            "weighted avg       0.69      0.71      0.70      1875\n",
            "\n",
            "CONFUSION MATRIX TEST\n",
            "\n",
            "col_0              0    1\n",
            "Credit Default           \n",
            "0               1132  208\n",
            "1                333  202\n"
          ],
          "name": "stdout"
        }
      ]
    },
    {
      "cell_type": "markdown",
      "metadata": {
        "id": "A75DxmuEWGRa",
        "colab_type": "text"
      },
      "source": [
        "**Бустинговые алгоритмы**"
      ]
    },
    {
      "cell_type": "markdown",
      "metadata": {
        "id": "p9XAY9zPWHFK",
        "colab_type": "text"
      },
      "source": [
        "*XGBoost*"
      ]
    },
    {
      "cell_type": "code",
      "metadata": {
        "id": "heZ6TZfmWJlt",
        "colab_type": "code",
        "colab": {}
      },
      "source": [
        "# model_xgb = xgb.XGBClassifier(random_state=21)\n",
        "# model_xgb.fit(X_train, y_train)\n",
        "\n",
        "# y_train_pred = model_xgb.predict(X_train)\n",
        "# y_test_pred = model_xgb.predict(X_test)\n",
        "\n",
        "# get_classification_report(y_train, y_train_pred, y_test, y_test_pred)"
      ],
      "execution_count": 0,
      "outputs": []
    },
    {
      "cell_type": "markdown",
      "metadata": {
        "id": "fHAeT3Kdja2u",
        "colab_type": "text"
      },
      "source": [
        "*LightGBM*"
      ]
    },
    {
      "cell_type": "code",
      "metadata": {
        "id": "BHy0RzGreg2I",
        "colab_type": "code",
        "colab": {
          "base_uri": "https://localhost:8080/",
          "height": 487
        },
        "outputId": "cf4355c5-7288-4671-92de-774ea5e5c2c5"
      },
      "source": [
        "model_lgbm = lgbm.LGBMClassifier(random_state=21)\n",
        "model_lgbm.fit(X_train, y_train)\n",
        "\n",
        "y_train_pred = model_lgbm.predict(X_train)\n",
        "y_test_pred = model_lgbm.predict(X_test)\n",
        "\n",
        "get_classification_report(y_train, y_train_pred, y_test, y_test_pred)"
      ],
      "execution_count": 634,
      "outputs": [
        {
          "output_type": "stream",
          "text": [
            "TRAIN\n",
            "\n",
            "              precision    recall  f1-score   support\n",
            "\n",
            "           0       0.85      0.95      0.90      4047\n",
            "           1       0.93      0.78      0.85      3156\n",
            "\n",
            "    accuracy                           0.88      7203\n",
            "   macro avg       0.89      0.87      0.87      7203\n",
            "weighted avg       0.88      0.88      0.88      7203\n",
            "\n",
            "TEST\n",
            "\n",
            "              precision    recall  f1-score   support\n",
            "\n",
            "           0       0.79      0.86      0.82      1340\n",
            "           1       0.54      0.42      0.48       535\n",
            "\n",
            "    accuracy                           0.73      1875\n",
            "   macro avg       0.66      0.64      0.65      1875\n",
            "weighted avg       0.72      0.73      0.72      1875\n",
            "\n",
            "CONFUSION MATRIX TEST\n",
            "\n",
            "col_0              0    1\n",
            "Credit Default           \n",
            "0               1147  193\n",
            "1                308  227\n"
          ],
          "name": "stdout"
        }
      ]
    },
    {
      "cell_type": "markdown",
      "metadata": {
        "id": "_3EnP1dDjpss",
        "colab_type": "text"
      },
      "source": [
        "*CatBoost*"
      ]
    },
    {
      "cell_type": "code",
      "metadata": {
        "id": "6dOMbBOxjq4d",
        "colab_type": "code",
        "colab": {}
      },
      "source": [
        "# model_catb = catb.CatBoostClassifier(silent=True, random_state=21)\n",
        "# model_catb.fit(X_train, y_train)\n",
        "\n",
        "# y_train_pred = model_catb.predict(X_train)\n",
        "# y_test_pred = model_catb.predict(X_test)\n",
        "\n",
        "# get_classification_report(y_train, y_train_pred, y_test, y_test_pred)"
      ],
      "execution_count": 0,
      "outputs": []
    },
    {
      "cell_type": "markdown",
      "metadata": {
        "id": "MIFERJ7hj5i_",
        "colab_type": "text"
      },
      "source": [
        "### Выбор лучшей модели и подбор гиперпараметров"
      ]
    },
    {
      "cell_type": "code",
      "metadata": {
        "id": "02Oy4Tzij6aV",
        "colab_type": "code",
        "colab": {}
      },
      "source": [
        "model_lgbm = lgbm.LGBMClassifier(silent=True, random_state=21)"
      ],
      "execution_count": 0,
      "outputs": []
    },
    {
      "cell_type": "markdown",
      "metadata": {
        "id": "kYLTqWFRkNxU",
        "colab_type": "text"
      },
      "source": [
        "**Подбор гиперпараметров**"
      ]
    },
    {
      "cell_type": "code",
      "metadata": {
        "id": "55qywsPvkK0d",
        "colab_type": "code",
        "colab": {}
      },
      "source": [
        "arams = {'n_estimators':[50, 100, 200, 500], \n",
        "          'max_depth':[3, 5, 7, 9],\n",
        "          'learning_rate':[0.001, 0.01, 0.05, 0.1]}"
      ],
      "execution_count": 0,
      "outputs": []
    },
    {
      "cell_type": "code",
      "metadata": {
        "id": "uNUj72rnkRql",
        "colab_type": "code",
        "colab": {}
      },
      "source": [
        "cv=KFold(n_splits=3, random_state=21, shuffle=True)"
      ],
      "execution_count": 0,
      "outputs": []
    },
    {
      "cell_type": "code",
      "metadata": {
        "id": "T1LrfDrskUsv",
        "colab_type": "code",
        "colab": {
          "base_uri": "https://localhost:8080/",
          "height": 390
        },
        "outputId": "8a3050ef-a778-4c80-dea2-ee4dc5bfe1fd"
      },
      "source": [
        "%%time\n",
        "\n",
        "rs = GridSearchCV(model_lgbm, params, scoring='f1', cv=cv, n_jobs=-1)\n",
        "rs.fit(X_train, y_train)"
      ],
      "execution_count": 639,
      "outputs": [
        {
          "output_type": "error",
          "ename": "KeyboardInterrupt",
          "evalue": "ignored",
          "traceback": [
            "\u001b[0;31m---------------------------------------------------------------------------\u001b[0m",
            "\u001b[0;31mKeyboardInterrupt\u001b[0m                         Traceback (most recent call last)",
            "\u001b[0;32m<ipython-input-639-91cfdda72e48>\u001b[0m in \u001b[0;36m<module>\u001b[0;34m()\u001b[0m\n\u001b[0;32m----> 1\u001b[0;31m \u001b[0mget_ipython\u001b[0m\u001b[0;34m(\u001b[0m\u001b[0;34m)\u001b[0m\u001b[0;34m.\u001b[0m\u001b[0mrun_cell_magic\u001b[0m\u001b[0;34m(\u001b[0m\u001b[0;34m'time'\u001b[0m\u001b[0;34m,\u001b[0m \u001b[0;34m''\u001b[0m\u001b[0;34m,\u001b[0m \u001b[0;34m\"\\nrs = GridSearchCV(model_lgbm, params, scoring='f1', cv=cv, n_jobs=-1)\\nrs.fit(X_train, y_train)\"\u001b[0m\u001b[0;34m)\u001b[0m\u001b[0;34m\u001b[0m\u001b[0;34m\u001b[0m\u001b[0m\n\u001b[0m",
            "\u001b[0;32m/usr/local/lib/python3.6/dist-packages/IPython/core/interactiveshell.py\u001b[0m in \u001b[0;36mrun_cell_magic\u001b[0;34m(self, magic_name, line, cell)\u001b[0m\n\u001b[1;32m   2115\u001b[0m             \u001b[0mmagic_arg_s\u001b[0m \u001b[0;34m=\u001b[0m \u001b[0mself\u001b[0m\u001b[0;34m.\u001b[0m\u001b[0mvar_expand\u001b[0m\u001b[0;34m(\u001b[0m\u001b[0mline\u001b[0m\u001b[0;34m,\u001b[0m \u001b[0mstack_depth\u001b[0m\u001b[0;34m)\u001b[0m\u001b[0;34m\u001b[0m\u001b[0;34m\u001b[0m\u001b[0m\n\u001b[1;32m   2116\u001b[0m             \u001b[0;32mwith\u001b[0m \u001b[0mself\u001b[0m\u001b[0;34m.\u001b[0m\u001b[0mbuiltin_trap\u001b[0m\u001b[0;34m:\u001b[0m\u001b[0;34m\u001b[0m\u001b[0;34m\u001b[0m\u001b[0m\n\u001b[0;32m-> 2117\u001b[0;31m                 \u001b[0mresult\u001b[0m \u001b[0;34m=\u001b[0m \u001b[0mfn\u001b[0m\u001b[0;34m(\u001b[0m\u001b[0mmagic_arg_s\u001b[0m\u001b[0;34m,\u001b[0m \u001b[0mcell\u001b[0m\u001b[0;34m)\u001b[0m\u001b[0;34m\u001b[0m\u001b[0;34m\u001b[0m\u001b[0m\n\u001b[0m\u001b[1;32m   2118\u001b[0m             \u001b[0;32mreturn\u001b[0m \u001b[0mresult\u001b[0m\u001b[0;34m\u001b[0m\u001b[0;34m\u001b[0m\u001b[0m\n\u001b[1;32m   2119\u001b[0m \u001b[0;34m\u001b[0m\u001b[0m\n",
            "\u001b[0;32m<decorator-gen-60>\u001b[0m in \u001b[0;36mtime\u001b[0;34m(self, line, cell, local_ns)\u001b[0m\n",
            "\u001b[0;32m/usr/local/lib/python3.6/dist-packages/IPython/core/magic.py\u001b[0m in \u001b[0;36m<lambda>\u001b[0;34m(f, *a, **k)\u001b[0m\n\u001b[1;32m    186\u001b[0m     \u001b[0;31m# but it's overkill for just that one bit of state.\u001b[0m\u001b[0;34m\u001b[0m\u001b[0;34m\u001b[0m\u001b[0;34m\u001b[0m\u001b[0m\n\u001b[1;32m    187\u001b[0m     \u001b[0;32mdef\u001b[0m \u001b[0mmagic_deco\u001b[0m\u001b[0;34m(\u001b[0m\u001b[0marg\u001b[0m\u001b[0;34m)\u001b[0m\u001b[0;34m:\u001b[0m\u001b[0;34m\u001b[0m\u001b[0;34m\u001b[0m\u001b[0m\n\u001b[0;32m--> 188\u001b[0;31m         \u001b[0mcall\u001b[0m \u001b[0;34m=\u001b[0m \u001b[0;32mlambda\u001b[0m \u001b[0mf\u001b[0m\u001b[0;34m,\u001b[0m \u001b[0;34m*\u001b[0m\u001b[0ma\u001b[0m\u001b[0;34m,\u001b[0m \u001b[0;34m**\u001b[0m\u001b[0mk\u001b[0m\u001b[0;34m:\u001b[0m \u001b[0mf\u001b[0m\u001b[0;34m(\u001b[0m\u001b[0;34m*\u001b[0m\u001b[0ma\u001b[0m\u001b[0;34m,\u001b[0m \u001b[0;34m**\u001b[0m\u001b[0mk\u001b[0m\u001b[0;34m)\u001b[0m\u001b[0;34m\u001b[0m\u001b[0;34m\u001b[0m\u001b[0m\n\u001b[0m\u001b[1;32m    189\u001b[0m \u001b[0;34m\u001b[0m\u001b[0m\n\u001b[1;32m    190\u001b[0m         \u001b[0;32mif\u001b[0m \u001b[0mcallable\u001b[0m\u001b[0;34m(\u001b[0m\u001b[0marg\u001b[0m\u001b[0;34m)\u001b[0m\u001b[0;34m:\u001b[0m\u001b[0;34m\u001b[0m\u001b[0;34m\u001b[0m\u001b[0m\n",
            "\u001b[0;32m/usr/local/lib/python3.6/dist-packages/IPython/core/magics/execution.py\u001b[0m in \u001b[0;36mtime\u001b[0;34m(self, line, cell, local_ns)\u001b[0m\n\u001b[1;32m   1191\u001b[0m         \u001b[0;32melse\u001b[0m\u001b[0;34m:\u001b[0m\u001b[0;34m\u001b[0m\u001b[0;34m\u001b[0m\u001b[0m\n\u001b[1;32m   1192\u001b[0m             \u001b[0mst\u001b[0m \u001b[0;34m=\u001b[0m \u001b[0mclock2\u001b[0m\u001b[0;34m(\u001b[0m\u001b[0;34m)\u001b[0m\u001b[0;34m\u001b[0m\u001b[0;34m\u001b[0m\u001b[0m\n\u001b[0;32m-> 1193\u001b[0;31m             \u001b[0mexec\u001b[0m\u001b[0;34m(\u001b[0m\u001b[0mcode\u001b[0m\u001b[0;34m,\u001b[0m \u001b[0mglob\u001b[0m\u001b[0;34m,\u001b[0m \u001b[0mlocal_ns\u001b[0m\u001b[0;34m)\u001b[0m\u001b[0;34m\u001b[0m\u001b[0;34m\u001b[0m\u001b[0m\n\u001b[0m\u001b[1;32m   1194\u001b[0m             \u001b[0mend\u001b[0m \u001b[0;34m=\u001b[0m \u001b[0mclock2\u001b[0m\u001b[0;34m(\u001b[0m\u001b[0;34m)\u001b[0m\u001b[0;34m\u001b[0m\u001b[0;34m\u001b[0m\u001b[0m\n\u001b[1;32m   1195\u001b[0m             \u001b[0mout\u001b[0m \u001b[0;34m=\u001b[0m \u001b[0;32mNone\u001b[0m\u001b[0;34m\u001b[0m\u001b[0;34m\u001b[0m\u001b[0m\n",
            "\u001b[0;32m<timed exec>\u001b[0m in \u001b[0;36m<module>\u001b[0;34m()\u001b[0m\n",
            "\u001b[0;32m/usr/local/lib/python3.6/dist-packages/sklearn/model_selection/_search.py\u001b[0m in \u001b[0;36mfit\u001b[0;34m(self, X, y, groups, **fit_params)\u001b[0m\n\u001b[1;32m    708\u001b[0m                 \u001b[0;32mreturn\u001b[0m \u001b[0mresults\u001b[0m\u001b[0;34m\u001b[0m\u001b[0;34m\u001b[0m\u001b[0m\n\u001b[1;32m    709\u001b[0m \u001b[0;34m\u001b[0m\u001b[0m\n\u001b[0;32m--> 710\u001b[0;31m             \u001b[0mself\u001b[0m\u001b[0;34m.\u001b[0m\u001b[0m_run_search\u001b[0m\u001b[0;34m(\u001b[0m\u001b[0mevaluate_candidates\u001b[0m\u001b[0;34m)\u001b[0m\u001b[0;34m\u001b[0m\u001b[0;34m\u001b[0m\u001b[0m\n\u001b[0m\u001b[1;32m    711\u001b[0m \u001b[0;34m\u001b[0m\u001b[0m\n\u001b[1;32m    712\u001b[0m         \u001b[0;31m# For multi-metric evaluation, store the best_index_, best_params_ and\u001b[0m\u001b[0;34m\u001b[0m\u001b[0;34m\u001b[0m\u001b[0;34m\u001b[0m\u001b[0m\n",
            "\u001b[0;32m/usr/local/lib/python3.6/dist-packages/sklearn/model_selection/_search.py\u001b[0m in \u001b[0;36m_run_search\u001b[0;34m(self, evaluate_candidates)\u001b[0m\n\u001b[1;32m   1149\u001b[0m     \u001b[0;32mdef\u001b[0m \u001b[0m_run_search\u001b[0m\u001b[0;34m(\u001b[0m\u001b[0mself\u001b[0m\u001b[0;34m,\u001b[0m \u001b[0mevaluate_candidates\u001b[0m\u001b[0;34m)\u001b[0m\u001b[0;34m:\u001b[0m\u001b[0;34m\u001b[0m\u001b[0;34m\u001b[0m\u001b[0m\n\u001b[1;32m   1150\u001b[0m         \u001b[0;34m\"\"\"Search all candidates in param_grid\"\"\"\u001b[0m\u001b[0;34m\u001b[0m\u001b[0;34m\u001b[0m\u001b[0m\n\u001b[0;32m-> 1151\u001b[0;31m         \u001b[0mevaluate_candidates\u001b[0m\u001b[0;34m(\u001b[0m\u001b[0mParameterGrid\u001b[0m\u001b[0;34m(\u001b[0m\u001b[0mself\u001b[0m\u001b[0;34m.\u001b[0m\u001b[0mparam_grid\u001b[0m\u001b[0;34m)\u001b[0m\u001b[0;34m)\u001b[0m\u001b[0;34m\u001b[0m\u001b[0;34m\u001b[0m\u001b[0m\n\u001b[0m\u001b[1;32m   1152\u001b[0m \u001b[0;34m\u001b[0m\u001b[0m\n\u001b[1;32m   1153\u001b[0m \u001b[0;34m\u001b[0m\u001b[0m\n",
            "\u001b[0;32m/usr/local/lib/python3.6/dist-packages/sklearn/model_selection/_search.py\u001b[0m in \u001b[0;36mevaluate_candidates\u001b[0;34m(candidate_params)\u001b[0m\n\u001b[1;32m    687\u001b[0m                                \u001b[0;32mfor\u001b[0m \u001b[0mparameters\u001b[0m\u001b[0;34m,\u001b[0m \u001b[0;34m(\u001b[0m\u001b[0mtrain\u001b[0m\u001b[0;34m,\u001b[0m \u001b[0mtest\u001b[0m\u001b[0;34m)\u001b[0m\u001b[0;34m\u001b[0m\u001b[0;34m\u001b[0m\u001b[0m\n\u001b[1;32m    688\u001b[0m                                in product(candidate_params,\n\u001b[0;32m--> 689\u001b[0;31m                                           cv.split(X, y, groups)))\n\u001b[0m\u001b[1;32m    690\u001b[0m \u001b[0;34m\u001b[0m\u001b[0m\n\u001b[1;32m    691\u001b[0m                 \u001b[0;32mif\u001b[0m \u001b[0mlen\u001b[0m\u001b[0;34m(\u001b[0m\u001b[0mout\u001b[0m\u001b[0;34m)\u001b[0m \u001b[0;34m<\u001b[0m \u001b[0;36m1\u001b[0m\u001b[0;34m:\u001b[0m\u001b[0;34m\u001b[0m\u001b[0;34m\u001b[0m\u001b[0m\n",
            "\u001b[0;32m/usr/local/lib/python3.6/dist-packages/joblib/parallel.py\u001b[0m in \u001b[0;36m__call__\u001b[0;34m(self, iterable)\u001b[0m\n\u001b[1;32m   1040\u001b[0m \u001b[0;34m\u001b[0m\u001b[0m\n\u001b[1;32m   1041\u001b[0m             \u001b[0;32mwith\u001b[0m \u001b[0mself\u001b[0m\u001b[0;34m.\u001b[0m\u001b[0m_backend\u001b[0m\u001b[0;34m.\u001b[0m\u001b[0mretrieval_context\u001b[0m\u001b[0;34m(\u001b[0m\u001b[0;34m)\u001b[0m\u001b[0;34m:\u001b[0m\u001b[0;34m\u001b[0m\u001b[0;34m\u001b[0m\u001b[0m\n\u001b[0;32m-> 1042\u001b[0;31m                 \u001b[0mself\u001b[0m\u001b[0;34m.\u001b[0m\u001b[0mretrieve\u001b[0m\u001b[0;34m(\u001b[0m\u001b[0;34m)\u001b[0m\u001b[0;34m\u001b[0m\u001b[0;34m\u001b[0m\u001b[0m\n\u001b[0m\u001b[1;32m   1043\u001b[0m             \u001b[0;31m# Make sure that we get a last message telling us we are done\u001b[0m\u001b[0;34m\u001b[0m\u001b[0;34m\u001b[0m\u001b[0;34m\u001b[0m\u001b[0m\n\u001b[1;32m   1044\u001b[0m             \u001b[0melapsed_time\u001b[0m \u001b[0;34m=\u001b[0m \u001b[0mtime\u001b[0m\u001b[0;34m.\u001b[0m\u001b[0mtime\u001b[0m\u001b[0;34m(\u001b[0m\u001b[0;34m)\u001b[0m \u001b[0;34m-\u001b[0m \u001b[0mself\u001b[0m\u001b[0;34m.\u001b[0m\u001b[0m_start_time\u001b[0m\u001b[0;34m\u001b[0m\u001b[0;34m\u001b[0m\u001b[0m\n",
            "\u001b[0;32m/usr/local/lib/python3.6/dist-packages/joblib/parallel.py\u001b[0m in \u001b[0;36mretrieve\u001b[0;34m(self)\u001b[0m\n\u001b[1;32m    919\u001b[0m             \u001b[0;32mtry\u001b[0m\u001b[0;34m:\u001b[0m\u001b[0;34m\u001b[0m\u001b[0;34m\u001b[0m\u001b[0m\n\u001b[1;32m    920\u001b[0m                 \u001b[0;32mif\u001b[0m \u001b[0mgetattr\u001b[0m\u001b[0;34m(\u001b[0m\u001b[0mself\u001b[0m\u001b[0;34m.\u001b[0m\u001b[0m_backend\u001b[0m\u001b[0;34m,\u001b[0m \u001b[0;34m'supports_timeout'\u001b[0m\u001b[0;34m,\u001b[0m \u001b[0;32mFalse\u001b[0m\u001b[0;34m)\u001b[0m\u001b[0;34m:\u001b[0m\u001b[0;34m\u001b[0m\u001b[0;34m\u001b[0m\u001b[0m\n\u001b[0;32m--> 921\u001b[0;31m                     \u001b[0mself\u001b[0m\u001b[0;34m.\u001b[0m\u001b[0m_output\u001b[0m\u001b[0;34m.\u001b[0m\u001b[0mextend\u001b[0m\u001b[0;34m(\u001b[0m\u001b[0mjob\u001b[0m\u001b[0;34m.\u001b[0m\u001b[0mget\u001b[0m\u001b[0;34m(\u001b[0m\u001b[0mtimeout\u001b[0m\u001b[0;34m=\u001b[0m\u001b[0mself\u001b[0m\u001b[0;34m.\u001b[0m\u001b[0mtimeout\u001b[0m\u001b[0;34m)\u001b[0m\u001b[0;34m)\u001b[0m\u001b[0;34m\u001b[0m\u001b[0;34m\u001b[0m\u001b[0m\n\u001b[0m\u001b[1;32m    922\u001b[0m                 \u001b[0;32melse\u001b[0m\u001b[0;34m:\u001b[0m\u001b[0;34m\u001b[0m\u001b[0;34m\u001b[0m\u001b[0m\n\u001b[1;32m    923\u001b[0m                     \u001b[0mself\u001b[0m\u001b[0;34m.\u001b[0m\u001b[0m_output\u001b[0m\u001b[0;34m.\u001b[0m\u001b[0mextend\u001b[0m\u001b[0;34m(\u001b[0m\u001b[0mjob\u001b[0m\u001b[0;34m.\u001b[0m\u001b[0mget\u001b[0m\u001b[0;34m(\u001b[0m\u001b[0;34m)\u001b[0m\u001b[0;34m)\u001b[0m\u001b[0;34m\u001b[0m\u001b[0;34m\u001b[0m\u001b[0m\n",
            "\u001b[0;32m/usr/local/lib/python3.6/dist-packages/joblib/_parallel_backends.py\u001b[0m in \u001b[0;36mwrap_future_result\u001b[0;34m(future, timeout)\u001b[0m\n\u001b[1;32m    538\u001b[0m         AsyncResults.get from multiprocessing.\"\"\"\n\u001b[1;32m    539\u001b[0m         \u001b[0;32mtry\u001b[0m\u001b[0;34m:\u001b[0m\u001b[0;34m\u001b[0m\u001b[0;34m\u001b[0m\u001b[0m\n\u001b[0;32m--> 540\u001b[0;31m             \u001b[0;32mreturn\u001b[0m \u001b[0mfuture\u001b[0m\u001b[0;34m.\u001b[0m\u001b[0mresult\u001b[0m\u001b[0;34m(\u001b[0m\u001b[0mtimeout\u001b[0m\u001b[0;34m=\u001b[0m\u001b[0mtimeout\u001b[0m\u001b[0;34m)\u001b[0m\u001b[0;34m\u001b[0m\u001b[0;34m\u001b[0m\u001b[0m\n\u001b[0m\u001b[1;32m    541\u001b[0m         \u001b[0;32mexcept\u001b[0m \u001b[0mCfTimeoutError\u001b[0m\u001b[0;34m:\u001b[0m\u001b[0;34m\u001b[0m\u001b[0;34m\u001b[0m\u001b[0m\n\u001b[1;32m    542\u001b[0m             \u001b[0;32mraise\u001b[0m \u001b[0mTimeoutError\u001b[0m\u001b[0;34m(\u001b[0m\u001b[0;34m)\u001b[0m\u001b[0;34m\u001b[0m\u001b[0;34m\u001b[0m\u001b[0m\n",
            "\u001b[0;32m/usr/lib/python3.6/concurrent/futures/_base.py\u001b[0m in \u001b[0;36mresult\u001b[0;34m(self, timeout)\u001b[0m\n\u001b[1;32m    425\u001b[0m                 \u001b[0;32mreturn\u001b[0m \u001b[0mself\u001b[0m\u001b[0;34m.\u001b[0m\u001b[0m__get_result\u001b[0m\u001b[0;34m(\u001b[0m\u001b[0;34m)\u001b[0m\u001b[0;34m\u001b[0m\u001b[0;34m\u001b[0m\u001b[0m\n\u001b[1;32m    426\u001b[0m \u001b[0;34m\u001b[0m\u001b[0m\n\u001b[0;32m--> 427\u001b[0;31m             \u001b[0mself\u001b[0m\u001b[0;34m.\u001b[0m\u001b[0m_condition\u001b[0m\u001b[0;34m.\u001b[0m\u001b[0mwait\u001b[0m\u001b[0;34m(\u001b[0m\u001b[0mtimeout\u001b[0m\u001b[0;34m)\u001b[0m\u001b[0;34m\u001b[0m\u001b[0;34m\u001b[0m\u001b[0m\n\u001b[0m\u001b[1;32m    428\u001b[0m \u001b[0;34m\u001b[0m\u001b[0m\n\u001b[1;32m    429\u001b[0m             \u001b[0;32mif\u001b[0m \u001b[0mself\u001b[0m\u001b[0;34m.\u001b[0m\u001b[0m_state\u001b[0m \u001b[0;32min\u001b[0m \u001b[0;34m[\u001b[0m\u001b[0mCANCELLED\u001b[0m\u001b[0;34m,\u001b[0m \u001b[0mCANCELLED_AND_NOTIFIED\u001b[0m\u001b[0;34m]\u001b[0m\u001b[0;34m:\u001b[0m\u001b[0;34m\u001b[0m\u001b[0;34m\u001b[0m\u001b[0m\n",
            "\u001b[0;32m/usr/lib/python3.6/threading.py\u001b[0m in \u001b[0;36mwait\u001b[0;34m(self, timeout)\u001b[0m\n\u001b[1;32m    293\u001b[0m         \u001b[0;32mtry\u001b[0m\u001b[0;34m:\u001b[0m    \u001b[0;31m# restore state no matter what (e.g., KeyboardInterrupt)\u001b[0m\u001b[0;34m\u001b[0m\u001b[0;34m\u001b[0m\u001b[0m\n\u001b[1;32m    294\u001b[0m             \u001b[0;32mif\u001b[0m \u001b[0mtimeout\u001b[0m \u001b[0;32mis\u001b[0m \u001b[0;32mNone\u001b[0m\u001b[0;34m:\u001b[0m\u001b[0;34m\u001b[0m\u001b[0;34m\u001b[0m\u001b[0m\n\u001b[0;32m--> 295\u001b[0;31m                 \u001b[0mwaiter\u001b[0m\u001b[0;34m.\u001b[0m\u001b[0macquire\u001b[0m\u001b[0;34m(\u001b[0m\u001b[0;34m)\u001b[0m\u001b[0;34m\u001b[0m\u001b[0;34m\u001b[0m\u001b[0m\n\u001b[0m\u001b[1;32m    296\u001b[0m                 \u001b[0mgotit\u001b[0m \u001b[0;34m=\u001b[0m \u001b[0;32mTrue\u001b[0m\u001b[0;34m\u001b[0m\u001b[0;34m\u001b[0m\u001b[0m\n\u001b[1;32m    297\u001b[0m             \u001b[0;32melse\u001b[0m\u001b[0;34m:\u001b[0m\u001b[0;34m\u001b[0m\u001b[0;34m\u001b[0m\u001b[0m\n",
            "\u001b[0;31mKeyboardInterrupt\u001b[0m: "
          ]
        }
      ]
    },
    {
      "cell_type": "code",
      "metadata": {
        "id": "PLtc5M_buttY",
        "colab_type": "code",
        "colab": {}
      },
      "source": [
        "rs.best_params_"
      ],
      "execution_count": 0,
      "outputs": []
    },
    {
      "cell_type": "markdown",
      "metadata": {
        "id": "6xFFsC_RuyvX",
        "colab_type": "text"
      },
      "source": [
        "**Обучение и оценка финальной модели**"
      ]
    },
    {
      "cell_type": "code",
      "metadata": {
        "id": "K7_8WqU2uzuB",
        "colab_type": "code",
        "colab": {
          "base_uri": "https://localhost:8080/",
          "height": 521
        },
        "outputId": "8d7e966e-1f6a-4a3f-85ac-f463c758bcc3"
      },
      "source": [
        "%%time\n",
        "\n",
        "final_model = lgbm.LGBMClassifier(n_estimators=500, max_depth=9, learning_rate=0.1,\n",
        "                                      silent=True, random_state=21)\n",
        "final_model.fit(X_train, y_train)\n",
        "\n",
        "y_train_pred = final_model.predict(X_train)\n",
        "y_test_pred = final_model.predict(X_test)\n",
        "\n",
        "get_classification_report(y_train, y_train_pred, y_test, y_test_pred)"
      ],
      "execution_count": 645,
      "outputs": [
        {
          "output_type": "stream",
          "text": [
            "TRAIN\n",
            "\n",
            "              precision    recall  f1-score   support\n",
            "\n",
            "           0       0.99      1.00      1.00      4047\n",
            "           1       1.00      0.99      0.99      3156\n",
            "\n",
            "    accuracy                           1.00      7203\n",
            "   macro avg       1.00      1.00      1.00      7203\n",
            "weighted avg       1.00      1.00      1.00      7203\n",
            "\n",
            "TEST\n",
            "\n",
            "              precision    recall  f1-score   support\n",
            "\n",
            "           0       0.78      0.85      0.82      1340\n",
            "           1       0.53      0.41      0.46       535\n",
            "\n",
            "    accuracy                           0.73      1875\n",
            "   macro avg       0.66      0.63      0.64      1875\n",
            "weighted avg       0.71      0.73      0.72      1875\n",
            "\n",
            "CONFUSION MATRIX TEST\n",
            "\n",
            "col_0              0    1\n",
            "Credit Default           \n",
            "0               1141  199\n",
            "1                313  222\n",
            "CPU times: user 2.76 s, sys: 46 ms, total: 2.81 s\n",
            "Wall time: 1.45 s\n"
          ],
          "name": "stdout"
        }
      ]
    },
    {
      "cell_type": "markdown",
      "metadata": {
        "id": "NISSkhnx5fRU",
        "colab_type": "text"
      },
      "source": [
        "### Сохранение модели"
      ]
    },
    {
      "cell_type": "markdown",
      "metadata": {
        "id": "QhaOfnas5gSl",
        "colab_type": "text"
      },
      "source": [
        "**Scaler**"
      ]
    },
    {
      "cell_type": "code",
      "metadata": {
        "id": "pqIY-HGs5nOe",
        "colab_type": "code",
        "colab": {}
      },
      "source": [
        "with open(SCALER_FILE_PATH, 'wb') as file:\n",
        "    pickle.dump(scaler, file)"
      ],
      "execution_count": 0,
      "outputs": []
    },
    {
      "cell_type": "markdown",
      "metadata": {
        "id": "4-_1oFBS5jFE",
        "colab_type": "text"
      },
      "source": [
        "**Model**"
      ]
    },
    {
      "cell_type": "code",
      "metadata": {
        "id": "05bs0_uy5uZ9",
        "colab_type": "code",
        "colab": {}
      },
      "source": [
        "with open(MODEL_FILE_PATH, 'wb') as file:\n",
        "    pickle.dump(final_model, file)"
      ],
      "execution_count": 0,
      "outputs": []
    }
  ]
}