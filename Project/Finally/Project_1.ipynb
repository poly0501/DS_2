{
  "nbformat": 4,
  "nbformat_minor": 0,
  "metadata": {
    "kernelspec": {
      "display_name": "Python 3",
      "language": "python",
      "name": "python3"
    },
    "language_info": {
      "codemirror_mode": {
        "name": "ipython",
        "version": 3
      },
      "file_extension": ".py",
      "mimetype": "text/x-python",
      "name": "python",
      "nbconvert_exporter": "python",
      "pygments_lexer": "ipython3",
      "version": "3.7.4"
    },
    "colab": {
      "name": "N_1.ipynb",
      "provenance": [],
      "collapsed_sections": [],
      "toc_visible": true
    }
  },
  "cells": [
    {
      "cell_type": "markdown",
      "metadata": {
        "id": "chl-Q6zqOe9f",
        "colab_type": "text"
      },
      "source": [
        "### Постановка задачи"
      ]
    },
    {
      "cell_type": "markdown",
      "metadata": {
        "id": "ZQSmQsTqOe9l",
        "colab_type": "text"
      },
      "source": [
        "Требуется на основании демографических данных о клиентах банка, истории их платежей и состоянии счета, предсказать невыполнение их обязательств по кредитной карте в следующем месяце."
      ]
    },
    {
      "cell_type": "markdown",
      "metadata": {
        "id": "oU2lFaxtOe9o",
        "colab_type": "text"
      },
      "source": [
        "**Описание датасета**\n",
        "\n",
        "* **Home Ownership** - Домовладение (Home Mortgage, Rent, Own Home, Have Mortgage)\n",
        "* **Annual Income** - Годовой доход\n",
        "* **Years in current job** - Количество лет на текущем месте работы\n",
        "* **Tax Liens** - Налоговые обременения\n",
        "* **Number of Open Accounts** - Количество открытых счетов\n",
        "* **Years of Credit History** - Количество лет кредитной истории\n",
        "* **Maximum Open Credit** - Наибольший открытый кредит\n",
        "* **Number of Credit Problems** - Количество проблем с кредитом\n",
        "* **Months since last delinquent** - Количество месяцев с последней просрочки платежа\n",
        "* **Bankruptcies** - банкротство\n",
        "* **Purpose** - Цель кредита (debt consolidation, other, home improvements, business loan, buy a car, medical bills, major purchase, take a trip, buy house, small business, wedding, moving, educational expenses, vacation, renewable energy)\n",
        "* **Term** - Срок кредита (Long Term, Short Term)\n",
        "* **Current Loan Amount** - Текущая сумма кредита\n",
        "* **Current Credit Balance** - Текущий кредитный баланс\n",
        "* **Monthly Debt** - Ежемесячный долг\n",
        "* **Credit Score** - Счет кредита\n",
        "* **Credit Default** -  факт невыполнения кредитных обязательств (0 - погашен вовремя, 1 - просрочка)"
      ]
    },
    {
      "cell_type": "code",
      "metadata": {
        "id": "6NxgvsV6Oe9r",
        "colab_type": "code",
        "colab": {
          "base_uri": "https://localhost:8080/",
          "height": 70
        },
        "outputId": "1cd843bc-1da8-4500-d9bc-5c81dc0f4f50"
      },
      "source": [
        "import numpy as np\n",
        "import pandas as pd\n",
        "\n",
        "from scipy.stats import shapiro\n",
        "from scipy.stats import probplot\n",
        "from scipy.stats import ttest_ind, mannwhitneyu\n",
        "from scipy.stats import chi2_contingency\n",
        "from statsmodels.stats.weightstats import zconfint\n",
        "\n",
        "import seaborn as sns\n",
        "from matplotlib import pyplot as plt\n",
        "%matplotlib inline"
      ],
      "execution_count": 1,
      "outputs": [
        {
          "output_type": "stream",
          "text": [
            "/usr/local/lib/python3.6/dist-packages/statsmodels/tools/_testing.py:19: FutureWarning: pandas.util.testing is deprecated. Use the functions in the public API at pandas.testing instead.\n",
            "  import pandas.util.testing as tm\n"
          ],
          "name": "stderr"
        }
      ]
    },
    {
      "cell_type": "code",
      "metadata": {
        "id": "2ivzejJuOe93",
        "colab_type": "code",
        "colab": {}
      },
      "source": [
        "import warnings\n",
        "warnings.simplefilter('ignore')"
      ],
      "execution_count": 0,
      "outputs": []
    },
    {
      "cell_type": "code",
      "metadata": {
        "id": "ZBlzQfzFOe-C",
        "colab_type": "code",
        "colab": {}
      },
      "source": [
        "# TEST_DATASET_PATH = 'course_project_test.csv'\n",
        "# df = pd.read_csv(TEST_DATASET_PATH)\n",
        "# df.head()"
      ],
      "execution_count": 0,
      "outputs": []
    },
    {
      "cell_type": "code",
      "metadata": {
        "id": "Cx1e3Pi3Oe-M",
        "colab_type": "code",
        "colab": {}
      },
      "source": [
        "DATASET_PATH = 'course_project_train.csv'\n",
        "\n",
        "# output\n",
        "PREP_DATASET_PATH = 'course_project_train_prep.csv'"
      ],
      "execution_count": 0,
      "outputs": []
    },
    {
      "cell_type": "code",
      "metadata": {
        "id": "cXhdKQ8fOe-U",
        "colab_type": "code",
        "outputId": "4c911ee5-7377-4d1a-a219-40244bf90b1a",
        "colab": {
          "base_uri": "https://localhost:8080/",
          "height": 350
        }
      },
      "source": [
        "df = pd.read_csv(DATASET_PATH)\n",
        "df.head()"
      ],
      "execution_count": 5,
      "outputs": [
        {
          "output_type": "execute_result",
          "data": {
            "text/html": [
              "<div>\n",
              "<style scoped>\n",
              "    .dataframe tbody tr th:only-of-type {\n",
              "        vertical-align: middle;\n",
              "    }\n",
              "\n",
              "    .dataframe tbody tr th {\n",
              "        vertical-align: top;\n",
              "    }\n",
              "\n",
              "    .dataframe thead th {\n",
              "        text-align: right;\n",
              "    }\n",
              "</style>\n",
              "<table border=\"1\" class=\"dataframe\">\n",
              "  <thead>\n",
              "    <tr style=\"text-align: right;\">\n",
              "      <th></th>\n",
              "      <th>Home Ownership</th>\n",
              "      <th>Annual Income</th>\n",
              "      <th>Years in current job</th>\n",
              "      <th>Tax Liens</th>\n",
              "      <th>Number of Open Accounts</th>\n",
              "      <th>Years of Credit History</th>\n",
              "      <th>Maximum Open Credit</th>\n",
              "      <th>Number of Credit Problems</th>\n",
              "      <th>Months since last delinquent</th>\n",
              "      <th>Bankruptcies</th>\n",
              "      <th>Purpose</th>\n",
              "      <th>Term</th>\n",
              "      <th>Current Loan Amount</th>\n",
              "      <th>Current Credit Balance</th>\n",
              "      <th>Monthly Debt</th>\n",
              "      <th>Credit Score</th>\n",
              "      <th>Credit Default</th>\n",
              "    </tr>\n",
              "  </thead>\n",
              "  <tbody>\n",
              "    <tr>\n",
              "      <th>0</th>\n",
              "      <td>Own Home</td>\n",
              "      <td>482087.0</td>\n",
              "      <td>NaN</td>\n",
              "      <td>0.0</td>\n",
              "      <td>11.0</td>\n",
              "      <td>26.3</td>\n",
              "      <td>685960.0</td>\n",
              "      <td>1.0</td>\n",
              "      <td>NaN</td>\n",
              "      <td>1.0</td>\n",
              "      <td>debt consolidation</td>\n",
              "      <td>Short Term</td>\n",
              "      <td>99999999.0</td>\n",
              "      <td>47386.0</td>\n",
              "      <td>7914.0</td>\n",
              "      <td>749.0</td>\n",
              "      <td>0</td>\n",
              "    </tr>\n",
              "    <tr>\n",
              "      <th>1</th>\n",
              "      <td>Own Home</td>\n",
              "      <td>1025487.0</td>\n",
              "      <td>10+ years</td>\n",
              "      <td>0.0</td>\n",
              "      <td>15.0</td>\n",
              "      <td>15.3</td>\n",
              "      <td>1181730.0</td>\n",
              "      <td>0.0</td>\n",
              "      <td>NaN</td>\n",
              "      <td>0.0</td>\n",
              "      <td>debt consolidation</td>\n",
              "      <td>Long Term</td>\n",
              "      <td>264968.0</td>\n",
              "      <td>394972.0</td>\n",
              "      <td>18373.0</td>\n",
              "      <td>737.0</td>\n",
              "      <td>1</td>\n",
              "    </tr>\n",
              "    <tr>\n",
              "      <th>2</th>\n",
              "      <td>Home Mortgage</td>\n",
              "      <td>751412.0</td>\n",
              "      <td>8 years</td>\n",
              "      <td>0.0</td>\n",
              "      <td>11.0</td>\n",
              "      <td>35.0</td>\n",
              "      <td>1182434.0</td>\n",
              "      <td>0.0</td>\n",
              "      <td>NaN</td>\n",
              "      <td>0.0</td>\n",
              "      <td>debt consolidation</td>\n",
              "      <td>Short Term</td>\n",
              "      <td>99999999.0</td>\n",
              "      <td>308389.0</td>\n",
              "      <td>13651.0</td>\n",
              "      <td>742.0</td>\n",
              "      <td>0</td>\n",
              "    </tr>\n",
              "    <tr>\n",
              "      <th>3</th>\n",
              "      <td>Own Home</td>\n",
              "      <td>805068.0</td>\n",
              "      <td>6 years</td>\n",
              "      <td>0.0</td>\n",
              "      <td>8.0</td>\n",
              "      <td>22.5</td>\n",
              "      <td>147400.0</td>\n",
              "      <td>1.0</td>\n",
              "      <td>NaN</td>\n",
              "      <td>1.0</td>\n",
              "      <td>debt consolidation</td>\n",
              "      <td>Short Term</td>\n",
              "      <td>121396.0</td>\n",
              "      <td>95855.0</td>\n",
              "      <td>11338.0</td>\n",
              "      <td>694.0</td>\n",
              "      <td>0</td>\n",
              "    </tr>\n",
              "    <tr>\n",
              "      <th>4</th>\n",
              "      <td>Rent</td>\n",
              "      <td>776264.0</td>\n",
              "      <td>8 years</td>\n",
              "      <td>0.0</td>\n",
              "      <td>13.0</td>\n",
              "      <td>13.6</td>\n",
              "      <td>385836.0</td>\n",
              "      <td>1.0</td>\n",
              "      <td>NaN</td>\n",
              "      <td>0.0</td>\n",
              "      <td>debt consolidation</td>\n",
              "      <td>Short Term</td>\n",
              "      <td>125840.0</td>\n",
              "      <td>93309.0</td>\n",
              "      <td>7180.0</td>\n",
              "      <td>719.0</td>\n",
              "      <td>0</td>\n",
              "    </tr>\n",
              "  </tbody>\n",
              "</table>\n",
              "</div>"
            ],
            "text/plain": [
              "  Home Ownership  Annual Income  ... Credit Score  Credit Default\n",
              "0       Own Home       482087.0  ...        749.0               0\n",
              "1       Own Home      1025487.0  ...        737.0               1\n",
              "2  Home Mortgage       751412.0  ...        742.0               0\n",
              "3       Own Home       805068.0  ...        694.0               0\n",
              "4           Rent       776264.0  ...        719.0               0\n",
              "\n",
              "[5 rows x 17 columns]"
            ]
          },
          "metadata": {
            "tags": []
          },
          "execution_count": 5
        }
      ]
    },
    {
      "cell_type": "code",
      "metadata": {
        "id": "qVPisrvHOe-c",
        "colab_type": "code",
        "outputId": "53895efc-4ec1-4e5f-ea2f-5bdf4eec9db2",
        "colab": {
          "base_uri": "https://localhost:8080/",
          "height": 34
        }
      },
      "source": [
        "df.shape"
      ],
      "execution_count": 6,
      "outputs": [
        {
          "output_type": "execute_result",
          "data": {
            "text/plain": [
              "(7500, 17)"
            ]
          },
          "metadata": {
            "tags": []
          },
          "execution_count": 6
        }
      ]
    },
    {
      "cell_type": "code",
      "metadata": {
        "id": "a_VoLWdeOe-k",
        "colab_type": "code",
        "outputId": "b644cbaf-af58-4fd0-fd3b-a3d64a5a8e9c",
        "colab": {
          "base_uri": "https://localhost:8080/",
          "height": 319
        }
      },
      "source": [
        "df.iloc[0]"
      ],
      "execution_count": 7,
      "outputs": [
        {
          "output_type": "execute_result",
          "data": {
            "text/plain": [
              "Home Ownership                            Own Home\n",
              "Annual Income                               482087\n",
              "Years in current job                           NaN\n",
              "Tax Liens                                        0\n",
              "Number of Open Accounts                         11\n",
              "Years of Credit History                       26.3\n",
              "Maximum Open Credit                         685960\n",
              "Number of Credit Problems                        1\n",
              "Months since last delinquent                   NaN\n",
              "Bankruptcies                                     1\n",
              "Purpose                         debt consolidation\n",
              "Term                                    Short Term\n",
              "Current Loan Amount                          1e+08\n",
              "Current Credit Balance                       47386\n",
              "Monthly Debt                                  7914\n",
              "Credit Score                                   749\n",
              "Credit Default                                   0\n",
              "Name: 0, dtype: object"
            ]
          },
          "metadata": {
            "tags": []
          },
          "execution_count": 7
        }
      ]
    },
    {
      "cell_type": "code",
      "metadata": {
        "id": "-pxYRBGdOe-r",
        "colab_type": "code",
        "outputId": "6a4d0f08-7a47-4fd7-cee6-f617ea71a0d8",
        "colab": {
          "base_uri": "https://localhost:8080/",
          "height": 420
        }
      },
      "source": [
        "df.info()"
      ],
      "execution_count": 8,
      "outputs": [
        {
          "output_type": "stream",
          "text": [
            "<class 'pandas.core.frame.DataFrame'>\n",
            "RangeIndex: 7500 entries, 0 to 7499\n",
            "Data columns (total 17 columns):\n",
            " #   Column                        Non-Null Count  Dtype  \n",
            "---  ------                        --------------  -----  \n",
            " 0   Home Ownership                7500 non-null   object \n",
            " 1   Annual Income                 5943 non-null   float64\n",
            " 2   Years in current job          7129 non-null   object \n",
            " 3   Tax Liens                     7500 non-null   float64\n",
            " 4   Number of Open Accounts       7500 non-null   float64\n",
            " 5   Years of Credit History       7500 non-null   float64\n",
            " 6   Maximum Open Credit           7500 non-null   float64\n",
            " 7   Number of Credit Problems     7500 non-null   float64\n",
            " 8   Months since last delinquent  3419 non-null   float64\n",
            " 9   Bankruptcies                  7486 non-null   float64\n",
            " 10  Purpose                       7500 non-null   object \n",
            " 11  Term                          7500 non-null   object \n",
            " 12  Current Loan Amount           7500 non-null   float64\n",
            " 13  Current Credit Balance        7500 non-null   float64\n",
            " 14  Monthly Debt                  7500 non-null   float64\n",
            " 15  Credit Score                  5943 non-null   float64\n",
            " 16  Credit Default                7500 non-null   int64  \n",
            "dtypes: float64(12), int64(1), object(4)\n",
            "memory usage: 996.2+ KB\n"
          ],
          "name": "stdout"
        }
      ]
    },
    {
      "cell_type": "markdown",
      "metadata": {
        "id": "gbir_bnoOe-y",
        "colab_type": "text"
      },
      "source": [
        "Переведём некоторые объекты в str вид"
      ]
    },
    {
      "cell_type": "code",
      "metadata": {
        "id": "S1CkfX2KOe-z",
        "colab_type": "code",
        "colab": {}
      },
      "source": [
        "for colname in ['Tax Liens', 'Number of Credit Problems','Number of Open Accounts', 'Bankruptcies']:\n",
        "    df[colname] = df[colname].astype(str)"
      ],
      "execution_count": 0,
      "outputs": []
    },
    {
      "cell_type": "code",
      "metadata": {
        "id": "TL0gYK9uOe-5",
        "colab_type": "code",
        "outputId": "6663a4a7-6251-4ac9-ee8c-3d329c670a49",
        "colab": {
          "base_uri": "https://localhost:8080/",
          "height": 319
        }
      },
      "source": [
        "df.dtypes"
      ],
      "execution_count": 10,
      "outputs": [
        {
          "output_type": "execute_result",
          "data": {
            "text/plain": [
              "Home Ownership                   object\n",
              "Annual Income                   float64\n",
              "Years in current job             object\n",
              "Tax Liens                        object\n",
              "Number of Open Accounts          object\n",
              "Years of Credit History         float64\n",
              "Maximum Open Credit             float64\n",
              "Number of Credit Problems        object\n",
              "Months since last delinquent    float64\n",
              "Bankruptcies                     object\n",
              "Purpose                          object\n",
              "Term                             object\n",
              "Current Loan Amount             float64\n",
              "Current Credit Balance          float64\n",
              "Monthly Debt                    float64\n",
              "Credit Score                    float64\n",
              "Credit Default                    int64\n",
              "dtype: object"
            ]
          },
          "metadata": {
            "tags": []
          },
          "execution_count": 10
        }
      ]
    },
    {
      "cell_type": "markdown",
      "metadata": {
        "id": "__BvnPAfOe-_",
        "colab_type": "text"
      },
      "source": [
        "Проверим просрочку платежа (1=да, 0=нет)"
      ]
    },
    {
      "cell_type": "code",
      "metadata": {
        "id": "qqsPT0AEOe_B",
        "colab_type": "code",
        "outputId": "a69c5012-9dea-475d-c0f8-25adfc680f90",
        "colab": {
          "base_uri": "https://localhost:8080/",
          "height": 67
        }
      },
      "source": [
        "df['Credit Default'].value_counts()"
      ],
      "execution_count": 11,
      "outputs": [
        {
          "output_type": "execute_result",
          "data": {
            "text/plain": [
              "0    5387\n",
              "1    2113\n",
              "Name: Credit Default, dtype: int64"
            ]
          },
          "metadata": {
            "tags": []
          },
          "execution_count": 11
        }
      ]
    },
    {
      "cell_type": "markdown",
      "metadata": {
        "id": "QsBznthDOe_I",
        "colab_type": "text"
      },
      "source": [
        "Почти у 1/3 от всех клиентов есть просрочка платежа"
      ]
    },
    {
      "cell_type": "markdown",
      "metadata": {
        "id": "dINs2XdJOe_K",
        "colab_type": "text"
      },
      "source": [
        "**Обзор количественных признаков**"
      ]
    },
    {
      "cell_type": "code",
      "metadata": {
        "id": "mIClqhmLOe_L",
        "colab_type": "code",
        "outputId": "4e362116-2bf7-4e26-e911-2ba468278e0e",
        "colab": {
          "base_uri": "https://localhost:8080/",
          "height": 301
        }
      },
      "source": [
        "df.describe()"
      ],
      "execution_count": 12,
      "outputs": [
        {
          "output_type": "execute_result",
          "data": {
            "text/html": [
              "<div>\n",
              "<style scoped>\n",
              "    .dataframe tbody tr th:only-of-type {\n",
              "        vertical-align: middle;\n",
              "    }\n",
              "\n",
              "    .dataframe tbody tr th {\n",
              "        vertical-align: top;\n",
              "    }\n",
              "\n",
              "    .dataframe thead th {\n",
              "        text-align: right;\n",
              "    }\n",
              "</style>\n",
              "<table border=\"1\" class=\"dataframe\">\n",
              "  <thead>\n",
              "    <tr style=\"text-align: right;\">\n",
              "      <th></th>\n",
              "      <th>Annual Income</th>\n",
              "      <th>Years of Credit History</th>\n",
              "      <th>Maximum Open Credit</th>\n",
              "      <th>Months since last delinquent</th>\n",
              "      <th>Current Loan Amount</th>\n",
              "      <th>Current Credit Balance</th>\n",
              "      <th>Monthly Debt</th>\n",
              "      <th>Credit Score</th>\n",
              "      <th>Credit Default</th>\n",
              "    </tr>\n",
              "  </thead>\n",
              "  <tbody>\n",
              "    <tr>\n",
              "      <th>count</th>\n",
              "      <td>5.943000e+03</td>\n",
              "      <td>7500.000000</td>\n",
              "      <td>7.500000e+03</td>\n",
              "      <td>3419.000000</td>\n",
              "      <td>7.500000e+03</td>\n",
              "      <td>7.500000e+03</td>\n",
              "      <td>7500.000000</td>\n",
              "      <td>5943.000000</td>\n",
              "      <td>7500.000000</td>\n",
              "    </tr>\n",
              "    <tr>\n",
              "      <th>mean</th>\n",
              "      <td>1.366392e+06</td>\n",
              "      <td>18.317467</td>\n",
              "      <td>9.451537e+05</td>\n",
              "      <td>34.692600</td>\n",
              "      <td>1.187318e+07</td>\n",
              "      <td>2.898332e+05</td>\n",
              "      <td>18314.454133</td>\n",
              "      <td>1151.087498</td>\n",
              "      <td>0.281733</td>\n",
              "    </tr>\n",
              "    <tr>\n",
              "      <th>std</th>\n",
              "      <td>8.453392e+05</td>\n",
              "      <td>7.041946</td>\n",
              "      <td>1.602622e+07</td>\n",
              "      <td>21.688806</td>\n",
              "      <td>3.192612e+07</td>\n",
              "      <td>3.178714e+05</td>\n",
              "      <td>11926.764673</td>\n",
              "      <td>1604.451418</td>\n",
              "      <td>0.449874</td>\n",
              "    </tr>\n",
              "    <tr>\n",
              "      <th>min</th>\n",
              "      <td>1.645970e+05</td>\n",
              "      <td>4.000000</td>\n",
              "      <td>0.000000e+00</td>\n",
              "      <td>0.000000</td>\n",
              "      <td>1.124200e+04</td>\n",
              "      <td>0.000000e+00</td>\n",
              "      <td>0.000000</td>\n",
              "      <td>585.000000</td>\n",
              "      <td>0.000000</td>\n",
              "    </tr>\n",
              "    <tr>\n",
              "      <th>25%</th>\n",
              "      <td>8.443410e+05</td>\n",
              "      <td>13.500000</td>\n",
              "      <td>2.792295e+05</td>\n",
              "      <td>16.000000</td>\n",
              "      <td>1.801690e+05</td>\n",
              "      <td>1.142565e+05</td>\n",
              "      <td>10067.500000</td>\n",
              "      <td>711.000000</td>\n",
              "      <td>0.000000</td>\n",
              "    </tr>\n",
              "    <tr>\n",
              "      <th>50%</th>\n",
              "      <td>1.168386e+06</td>\n",
              "      <td>17.000000</td>\n",
              "      <td>4.781590e+05</td>\n",
              "      <td>32.000000</td>\n",
              "      <td>3.095730e+05</td>\n",
              "      <td>2.093230e+05</td>\n",
              "      <td>16076.500000</td>\n",
              "      <td>731.000000</td>\n",
              "      <td>0.000000</td>\n",
              "    </tr>\n",
              "    <tr>\n",
              "      <th>75%</th>\n",
              "      <td>1.640137e+06</td>\n",
              "      <td>21.800000</td>\n",
              "      <td>7.935015e+05</td>\n",
              "      <td>50.000000</td>\n",
              "      <td>5.198820e+05</td>\n",
              "      <td>3.604062e+05</td>\n",
              "      <td>23818.000000</td>\n",
              "      <td>743.000000</td>\n",
              "      <td>1.000000</td>\n",
              "    </tr>\n",
              "    <tr>\n",
              "      <th>max</th>\n",
              "      <td>1.014934e+07</td>\n",
              "      <td>57.700000</td>\n",
              "      <td>1.304726e+09</td>\n",
              "      <td>118.000000</td>\n",
              "      <td>1.000000e+08</td>\n",
              "      <td>6.506797e+06</td>\n",
              "      <td>136679.000000</td>\n",
              "      <td>7510.000000</td>\n",
              "      <td>1.000000</td>\n",
              "    </tr>\n",
              "  </tbody>\n",
              "</table>\n",
              "</div>"
            ],
            "text/plain": [
              "       Annual Income  Years of Credit History  ...  Credit Score  Credit Default\n",
              "count   5.943000e+03              7500.000000  ...   5943.000000     7500.000000\n",
              "mean    1.366392e+06                18.317467  ...   1151.087498        0.281733\n",
              "std     8.453392e+05                 7.041946  ...   1604.451418        0.449874\n",
              "min     1.645970e+05                 4.000000  ...    585.000000        0.000000\n",
              "25%     8.443410e+05                13.500000  ...    711.000000        0.000000\n",
              "50%     1.168386e+06                17.000000  ...    731.000000        0.000000\n",
              "75%     1.640137e+06                21.800000  ...    743.000000        1.000000\n",
              "max     1.014934e+07                57.700000  ...   7510.000000        1.000000\n",
              "\n",
              "[8 rows x 9 columns]"
            ]
          },
          "metadata": {
            "tags": []
          },
          "execution_count": 12
        }
      ]
    },
    {
      "cell_type": "markdown",
      "metadata": {
        "id": "FxmPdwnzOe_R",
        "colab_type": "text"
      },
      "source": [
        "Все значения в разумных приделах"
      ]
    },
    {
      "cell_type": "markdown",
      "metadata": {
        "id": "O0XoNON5Oe_S",
        "colab_type": "text"
      },
      "source": [
        "**Обзор номинативных признаков**"
      ]
    },
    {
      "cell_type": "code",
      "metadata": {
        "id": "dNl7yG_xOe_T",
        "colab_type": "code",
        "outputId": "05bdbe88-371a-403c-8b52-c3804a3fef05",
        "colab": {
          "base_uri": "https://localhost:8080/",
          "height": 1000
        }
      },
      "source": [
        "for cat_colname in df.select_dtypes(include='object').columns:\n",
        "    print(str(cat_colname) + '\\n\\n' + str(df[cat_colname].value_counts()) + '\\n' + '*' * 100 + '\\n')"
      ],
      "execution_count": 13,
      "outputs": [
        {
          "output_type": "stream",
          "text": [
            "Home Ownership\n",
            "\n",
            "Home Mortgage    3637\n",
            "Rent             3204\n",
            "Own Home          647\n",
            "Have Mortgage      12\n",
            "Name: Home Ownership, dtype: int64\n",
            "****************************************************************************************************\n",
            "\n",
            "Years in current job\n",
            "\n",
            "10+ years    2332\n",
            "2 years       705\n",
            "3 years       620\n",
            "< 1 year      563\n",
            "5 years       516\n",
            "1 year        504\n",
            "4 years       469\n",
            "6 years       426\n",
            "7 years       396\n",
            "8 years       339\n",
            "9 years       259\n",
            "Name: Years in current job, dtype: int64\n",
            "****************************************************************************************************\n",
            "\n",
            "Tax Liens\n",
            "\n",
            "0.0    7366\n",
            "1.0      83\n",
            "2.0      30\n",
            "3.0      10\n",
            "4.0       6\n",
            "6.0       2\n",
            "5.0       2\n",
            "7.0       1\n",
            "Name: Tax Liens, dtype: int64\n",
            "****************************************************************************************************\n",
            "\n",
            "Number of Open Accounts\n",
            "\n",
            "9.0     728\n",
            "11.0    692\n",
            "10.0    677\n",
            "8.0     638\n",
            "7.0     613\n",
            "12.0    562\n",
            "6.0     504\n",
            "13.0    465\n",
            "14.0    420\n",
            "5.0     325\n",
            "15.0    313\n",
            "16.0    265\n",
            "17.0    232\n",
            "4.0     212\n",
            "18.0    143\n",
            "19.0    139\n",
            "3.0      95\n",
            "20.0     93\n",
            "21.0     78\n",
            "23.0     59\n",
            "24.0     50\n",
            "22.0     49\n",
            "25.0     32\n",
            "2.0      28\n",
            "27.0     14\n",
            "28.0     14\n",
            "26.0     12\n",
            "30.0     11\n",
            "29.0     10\n",
            "32.0      6\n",
            "31.0      6\n",
            "33.0      6\n",
            "34.0      2\n",
            "37.0      2\n",
            "43.0      1\n",
            "42.0      1\n",
            "41.0      1\n",
            "38.0      1\n",
            "35.0      1\n",
            "Name: Number of Open Accounts, dtype: int64\n",
            "****************************************************************************************************\n",
            "\n",
            "Number of Credit Problems\n",
            "\n",
            "0.0    6469\n",
            "1.0     882\n",
            "2.0      93\n",
            "3.0      35\n",
            "4.0       9\n",
            "5.0       7\n",
            "6.0       4\n",
            "7.0       1\n",
            "Name: Number of Credit Problems, dtype: int64\n",
            "****************************************************************************************************\n",
            "\n",
            "Bankruptcies\n",
            "\n",
            "0.0    6660\n",
            "1.0     786\n",
            "2.0      31\n",
            "nan      14\n",
            "3.0       7\n",
            "4.0       2\n",
            "Name: Bankruptcies, dtype: int64\n",
            "****************************************************************************************************\n",
            "\n",
            "Purpose\n",
            "\n",
            "debt consolidation      5944\n",
            "other                    665\n",
            "home improvements        412\n",
            "business loan            129\n",
            "buy a car                 96\n",
            "medical bills             71\n",
            "major purchase            40\n",
            "take a trip               37\n",
            "buy house                 34\n",
            "small business            26\n",
            "wedding                   15\n",
            "moving                    11\n",
            "educational expenses      10\n",
            "vacation                   8\n",
            "renewable energy           2\n",
            "Name: Purpose, dtype: int64\n",
            "****************************************************************************************************\n",
            "\n",
            "Term\n",
            "\n",
            "Short Term    5556\n",
            "Long Term     1944\n",
            "Name: Term, dtype: int64\n",
            "****************************************************************************************************\n",
            "\n"
          ],
          "name": "stdout"
        }
      ]
    },
    {
      "cell_type": "markdown",
      "metadata": {
        "id": "31_xW4uLOe_Z",
        "colab_type": "text"
      },
      "source": [
        "### Обработка пропусков"
      ]
    },
    {
      "cell_type": "code",
      "metadata": {
        "id": "zL9bN2aZOe_a",
        "colab_type": "code",
        "outputId": "586d5899-68eb-42a7-8eac-d4b1fbfd0fd6",
        "colab": {
          "base_uri": "https://localhost:8080/",
          "height": 319
        }
      },
      "source": [
        "len(df) - df.count()"
      ],
      "execution_count": 14,
      "outputs": [
        {
          "output_type": "execute_result",
          "data": {
            "text/plain": [
              "Home Ownership                     0\n",
              "Annual Income                   1557\n",
              "Years in current job             371\n",
              "Tax Liens                          0\n",
              "Number of Open Accounts            0\n",
              "Years of Credit History            0\n",
              "Maximum Open Credit                0\n",
              "Number of Credit Problems          0\n",
              "Months since last delinquent    4081\n",
              "Bankruptcies                       0\n",
              "Purpose                            0\n",
              "Term                               0\n",
              "Current Loan Amount                0\n",
              "Current Credit Balance             0\n",
              "Monthly Debt                       0\n",
              "Credit Score                    1557\n",
              "Credit Default                     0\n",
              "dtype: int64"
            ]
          },
          "metadata": {
            "tags": []
          },
          "execution_count": 14
        }
      ]
    },
    {
      "cell_type": "code",
      "metadata": {
        "id": "T7zZRB1NOe_f",
        "colab_type": "code",
        "colab": {}
      },
      "source": [
        "for colname in ['Number of Credit Problems', 'Bankruptcies']:\n",
        "    df[colname] = df[colname].astype(str)"
      ],
      "execution_count": 0,
      "outputs": []
    },
    {
      "cell_type": "code",
      "metadata": {
        "id": "rbgc6Lp6Oe_n",
        "colab_type": "code",
        "colab": {}
      },
      "source": [
        "df = df.fillna(0)"
      ],
      "execution_count": 0,
      "outputs": []
    },
    {
      "cell_type": "code",
      "metadata": {
        "id": "qLyWfmVbOe_s",
        "colab_type": "code",
        "colab": {}
      },
      "source": [
        "df.loc[df['Annual Income'] == 'nan', 'Annual Income'] = 0"
      ],
      "execution_count": 0,
      "outputs": []
    },
    {
      "cell_type": "code",
      "metadata": {
        "id": "EyLIpgk5Oe_w",
        "colab_type": "code",
        "colab": {}
      },
      "source": [
        "df.loc[df['Annual Income'] == 0, 'Annual Income'] = df['Annual Income'].mean()"
      ],
      "execution_count": 0,
      "outputs": []
    },
    {
      "cell_type": "code",
      "metadata": {
        "id": "0TpwIhLSOe_0",
        "colab_type": "code",
        "colab": {}
      },
      "source": [
        "df.loc[df['Years in current job'] == 0, 'Years in current job'] = df['Years in current job'].mode()[0]"
      ],
      "execution_count": 0,
      "outputs": []
    },
    {
      "cell_type": "code",
      "metadata": {
        "id": "4ZD2F7HAOe_3",
        "colab_type": "code",
        "colab": {}
      },
      "source": [
        "df.loc[df['Months since last delinquent'] == 0, 'Months since last delinquent'] = df['Months since last delinquent'].mean()"
      ],
      "execution_count": 0,
      "outputs": []
    },
    {
      "cell_type": "code",
      "metadata": {
        "id": "QjfuSqmtOe_7",
        "colab_type": "code",
        "colab": {}
      },
      "source": [
        "df.loc[df['Credit Score'] == 0, 'Credit Score'] = df['Credit Score'].mean()"
      ],
      "execution_count": 0,
      "outputs": []
    },
    {
      "cell_type": "markdown",
      "metadata": {
        "id": "5y2Webo-Oe_-",
        "colab_type": "text"
      },
      "source": [
        "Заменили пропуски в 'Annual Income', 'Months since last delinquent', 'Credit Score' средими значениями, а в 'Years in current job' самым частым значением"
      ]
    },
    {
      "cell_type": "markdown",
      "metadata": {
        "id": "3JGyTjDlOe__",
        "colab_type": "text"
      },
      "source": [
        "### Обработка выбросов"
      ]
    },
    {
      "cell_type": "markdown",
      "metadata": {
        "id": "4MEFM5LLOfAA",
        "colab_type": "text"
      },
      "source": [
        "**Tax Liens**"
      ]
    },
    {
      "cell_type": "markdown",
      "metadata": {
        "id": "5qdXhFTIOfAB",
        "colab_type": "text"
      },
      "source": [
        "С большой вероятностью 5, 6, 7 - выбросы"
      ]
    },
    {
      "cell_type": "code",
      "metadata": {
        "id": "nxQ4NglJOfAB",
        "colab_type": "code",
        "colab": {}
      },
      "source": [
        "df.loc[df['Tax Liens'] == '5.0', 'Tax Liens'] = df['Tax Liens'].mode()[0]\n",
        "df.loc[df['Tax Liens'] == '6.0', 'Tax Liens'] = df['Tax Liens'].mode()[0]\n",
        "df.loc[df['Tax Liens'] == '7.0', 'Tax Liens'] = df['Tax Liens'].mode()[0]"
      ],
      "execution_count": 0,
      "outputs": []
    },
    {
      "cell_type": "code",
      "metadata": {
        "id": "ecCLVOK_OfAG",
        "colab_type": "code",
        "outputId": "0b11f915-0f49-4a6c-8efe-ac3e51180772",
        "colab": {
          "base_uri": "https://localhost:8080/",
          "height": 118
        }
      },
      "source": [
        "df['Tax Liens'].value_counts()"
      ],
      "execution_count": 23,
      "outputs": [
        {
          "output_type": "execute_result",
          "data": {
            "text/plain": [
              "0.0    7371\n",
              "1.0      83\n",
              "2.0      30\n",
              "3.0      10\n",
              "4.0       6\n",
              "Name: Tax Liens, dtype: int64"
            ]
          },
          "metadata": {
            "tags": []
          },
          "execution_count": 23
        }
      ]
    },
    {
      "cell_type": "markdown",
      "metadata": {
        "id": "rNIdZkNqmd3f",
        "colab_type": "text"
      },
      "source": [
        "**Number of Open Accounts**"
      ]
    },
    {
      "cell_type": "code",
      "metadata": {
        "id": "VV-a2FupmdPm",
        "colab_type": "code",
        "colab": {}
      },
      "source": [
        "df.loc[(df['Number of Open Accounts'] == '31.0'), 'Number of Open Accounts'] = df['Number of Open Accounts'].mode()[0]\n",
        "df.loc[(df['Number of Open Accounts'] == '32.0'), 'Number of Open Accounts'] = df['Number of Open Accounts'].mode()[0]\n",
        "df.loc[(df['Number of Open Accounts'] == '33.0'), 'Number of Open Accounts'] = df['Number of Open Accounts'].mode()[0]\n",
        "df.loc[(df['Number of Open Accounts'] == '34.0'), 'Number of Open Accounts'] = df['Number of Open Accounts'].mode()[0]\n",
        "df.loc[(df['Number of Open Accounts'] == '35.0'), 'Number of Open Accounts'] = df['Number of Open Accounts'].mode()[0]\n",
        "df.loc[(df['Number of Open Accounts'] == '36.0'), 'Number of Open Accounts'] = df['Number of Open Accounts'].mode()[0]\n",
        "df.loc[(df['Number of Open Accounts'] == '37.0'), 'Number of Open Accounts'] = df['Number of Open Accounts'].mode()[0]\n",
        "df.loc[(df['Number of Open Accounts'] == '38.0'), 'Number of Open Accounts'] = df['Number of Open Accounts'].mode()[0]\n",
        "df.loc[(df['Number of Open Accounts'] == '39.0'), 'Number of Open Accounts'] = df['Number of Open Accounts'].mode()[0]\n",
        "df.loc[(df['Number of Open Accounts'] == '40.0'), 'Number of Open Accounts'] = df['Number of Open Accounts'].mode()[0]\n",
        "df.loc[(df['Number of Open Accounts'] == '41.0'), 'Number of Open Accounts'] = df['Number of Open Accounts'].mode()[0]\n",
        "df.loc[(df['Number of Open Accounts'] == '42.0'), 'Number of Open Accounts'] = df['Number of Open Accounts'].mode()[0]\n",
        "df.loc[(df['Number of Open Accounts'] == '43.0'), 'Number of Open Accounts'] = df['Number of Open Accounts'].mode()[0]\n",
        "df.loc[(df['Number of Open Accounts'] == '29.0'), 'Number of Open Accounts'] = df['Number of Open Accounts'].mode()[0]\n",
        "df.loc[(df['Number of Open Accounts'] == '30.0'), 'Number of Open Accounts'] = df['Number of Open Accounts'].mode()[0]\n",
        "df.loc[(df['Number of Open Accounts'] == '26.0'), 'Number of Open Accounts'] = df['Number of Open Accounts'].mode()[0]\n",
        "df.loc[(df['Number of Open Accounts'] == '28.0'), 'Number of Open Accounts'] = df['Number of Open Accounts'].mode()[0]\n",
        "df.loc[(df['Number of Open Accounts'] == '27.0'), 'Number of Open Accounts'] = df['Number of Open Accounts'].mode()[0]"
      ],
      "execution_count": 0,
      "outputs": []
    },
    {
      "cell_type": "markdown",
      "metadata": {
        "id": "ujw7Y7XMOfAL",
        "colab_type": "text"
      },
      "source": [
        "**Number of Credit Problems**"
      ]
    },
    {
      "cell_type": "markdown",
      "metadata": {
        "id": "YWeUeVhEOfAM",
        "colab_type": "text"
      },
      "source": [
        "С большой вероятностью 5, 6, 7 - выбросы"
      ]
    },
    {
      "cell_type": "code",
      "metadata": {
        "id": "tLSj6vNgOfAN",
        "colab_type": "code",
        "colab": {}
      },
      "source": [
        "df.loc[df['Number of Credit Problems'] == '7.0', 'Number of Credit Problems'] = df['Number of Credit Problems'].mode()[0]\n",
        "df.loc[df['Number of Credit Problems'] == '6.0', 'Number of Credit Problems'] = df['Number of Credit Problems'].mode()[0]\n",
        "df.loc[df['Number of Credit Problems'] == '5.0', 'Number of Credit Problems'] = df['Number of Credit Problems'].mode()[0]"
      ],
      "execution_count": 0,
      "outputs": []
    },
    {
      "cell_type": "code",
      "metadata": {
        "id": "aGdkSrDwOfAP",
        "colab_type": "code",
        "outputId": "dc7030ea-17f4-40f5-826a-37ee1b75db36",
        "colab": {
          "base_uri": "https://localhost:8080/",
          "height": 118
        }
      },
      "source": [
        "df['Number of Credit Problems'].value_counts()"
      ],
      "execution_count": 26,
      "outputs": [
        {
          "output_type": "execute_result",
          "data": {
            "text/plain": [
              "0.0    6481\n",
              "1.0     882\n",
              "2.0      93\n",
              "3.0      35\n",
              "4.0       9\n",
              "Name: Number of Credit Problems, dtype: int64"
            ]
          },
          "metadata": {
            "tags": []
          },
          "execution_count": 26
        }
      ]
    },
    {
      "cell_type": "markdown",
      "metadata": {
        "id": "hDn2hAxUOfAS",
        "colab_type": "text"
      },
      "source": [
        "**Bankruptcies**"
      ]
    },
    {
      "cell_type": "markdown",
      "metadata": {
        "id": "bEGfdvtmOfAS",
        "colab_type": "text"
      },
      "source": [
        "С большой вероятностью 3, 4 - выбросы"
      ]
    },
    {
      "cell_type": "code",
      "metadata": {
        "id": "Qb7zBXPUOfAS",
        "colab_type": "code",
        "colab": {}
      },
      "source": [
        "df.loc[df['Bankruptcies'] == '4.0', 'Bankruptcies'] = df['Bankruptcies'].mode()[0]\n",
        "df.loc[df['Bankruptcies'] == '3.0', 'Bankruptcies'] = df['Bankruptcies'].mode()[0]"
      ],
      "execution_count": 0,
      "outputs": []
    },
    {
      "cell_type": "code",
      "metadata": {
        "id": "U2a29wpzOfAV",
        "colab_type": "code",
        "outputId": "a95aabb0-7cee-43a4-df66-4fe3b13f6a68",
        "colab": {
          "base_uri": "https://localhost:8080/",
          "height": 101
        }
      },
      "source": [
        "df['Bankruptcies'].value_counts()"
      ],
      "execution_count": 28,
      "outputs": [
        {
          "output_type": "execute_result",
          "data": {
            "text/plain": [
              "0.0    6669\n",
              "1.0     786\n",
              "2.0      31\n",
              "nan      14\n",
              "Name: Bankruptcies, dtype: int64"
            ]
          },
          "metadata": {
            "tags": []
          },
          "execution_count": 28
        }
      ]
    },
    {
      "cell_type": "markdown",
      "metadata": {
        "id": "izAP3-Qjn_Ko",
        "colab_type": "text"
      },
      "source": [
        ""
      ]
    },
    {
      "cell_type": "markdown",
      "metadata": {
        "id": "wOHeakyIOfAX",
        "colab_type": "text"
      },
      "source": [
        "### Построение новых признаков"
      ]
    },
    {
      "cell_type": "markdown",
      "metadata": {
        "id": "A1HHYj2ZOfAX",
        "colab_type": "text"
      },
      "source": [
        "**Id**"
      ]
    },
    {
      "cell_type": "code",
      "metadata": {
        "id": "3KgLqA1bOfAY",
        "colab_type": "code",
        "colab": {}
      },
      "source": [
        "df['ID'] = df.index.tolist()"
      ],
      "execution_count": 0,
      "outputs": []
    },
    {
      "cell_type": "code",
      "metadata": {
        "id": "IIMsrBFrOfAa",
        "colab_type": "code",
        "outputId": "b474756b-7439-48f4-8aab-5e5d83e9695a",
        "colab": {
          "base_uri": "https://localhost:8080/",
          "height": 350
        }
      },
      "source": [
        "df.head()"
      ],
      "execution_count": 30,
      "outputs": [
        {
          "output_type": "execute_result",
          "data": {
            "text/html": [
              "<div>\n",
              "<style scoped>\n",
              "    .dataframe tbody tr th:only-of-type {\n",
              "        vertical-align: middle;\n",
              "    }\n",
              "\n",
              "    .dataframe tbody tr th {\n",
              "        vertical-align: top;\n",
              "    }\n",
              "\n",
              "    .dataframe thead th {\n",
              "        text-align: right;\n",
              "    }\n",
              "</style>\n",
              "<table border=\"1\" class=\"dataframe\">\n",
              "  <thead>\n",
              "    <tr style=\"text-align: right;\">\n",
              "      <th></th>\n",
              "      <th>Home Ownership</th>\n",
              "      <th>Annual Income</th>\n",
              "      <th>Years in current job</th>\n",
              "      <th>Tax Liens</th>\n",
              "      <th>Number of Open Accounts</th>\n",
              "      <th>Years of Credit History</th>\n",
              "      <th>Maximum Open Credit</th>\n",
              "      <th>Number of Credit Problems</th>\n",
              "      <th>Months since last delinquent</th>\n",
              "      <th>Bankruptcies</th>\n",
              "      <th>Purpose</th>\n",
              "      <th>Term</th>\n",
              "      <th>Current Loan Amount</th>\n",
              "      <th>Current Credit Balance</th>\n",
              "      <th>Monthly Debt</th>\n",
              "      <th>Credit Score</th>\n",
              "      <th>Credit Default</th>\n",
              "      <th>ID</th>\n",
              "    </tr>\n",
              "  </thead>\n",
              "  <tbody>\n",
              "    <tr>\n",
              "      <th>0</th>\n",
              "      <td>Own Home</td>\n",
              "      <td>482087.0</td>\n",
              "      <td>10+ years</td>\n",
              "      <td>0.0</td>\n",
              "      <td>11.0</td>\n",
              "      <td>26.3</td>\n",
              "      <td>685960.0</td>\n",
              "      <td>1.0</td>\n",
              "      <td>15.8152</td>\n",
              "      <td>1.0</td>\n",
              "      <td>debt consolidation</td>\n",
              "      <td>Short Term</td>\n",
              "      <td>99999999.0</td>\n",
              "      <td>47386.0</td>\n",
              "      <td>7914.0</td>\n",
              "      <td>749.0</td>\n",
              "      <td>0</td>\n",
              "      <td>0</td>\n",
              "    </tr>\n",
              "    <tr>\n",
              "      <th>1</th>\n",
              "      <td>Own Home</td>\n",
              "      <td>1025487.0</td>\n",
              "      <td>10+ years</td>\n",
              "      <td>0.0</td>\n",
              "      <td>15.0</td>\n",
              "      <td>15.3</td>\n",
              "      <td>1181730.0</td>\n",
              "      <td>0.0</td>\n",
              "      <td>15.8152</td>\n",
              "      <td>0.0</td>\n",
              "      <td>debt consolidation</td>\n",
              "      <td>Long Term</td>\n",
              "      <td>264968.0</td>\n",
              "      <td>394972.0</td>\n",
              "      <td>18373.0</td>\n",
              "      <td>737.0</td>\n",
              "      <td>1</td>\n",
              "      <td>1</td>\n",
              "    </tr>\n",
              "    <tr>\n",
              "      <th>2</th>\n",
              "      <td>Home Mortgage</td>\n",
              "      <td>751412.0</td>\n",
              "      <td>8 years</td>\n",
              "      <td>0.0</td>\n",
              "      <td>11.0</td>\n",
              "      <td>35.0</td>\n",
              "      <td>1182434.0</td>\n",
              "      <td>0.0</td>\n",
              "      <td>15.8152</td>\n",
              "      <td>0.0</td>\n",
              "      <td>debt consolidation</td>\n",
              "      <td>Short Term</td>\n",
              "      <td>99999999.0</td>\n",
              "      <td>308389.0</td>\n",
              "      <td>13651.0</td>\n",
              "      <td>742.0</td>\n",
              "      <td>0</td>\n",
              "      <td>2</td>\n",
              "    </tr>\n",
              "    <tr>\n",
              "      <th>3</th>\n",
              "      <td>Own Home</td>\n",
              "      <td>805068.0</td>\n",
              "      <td>6 years</td>\n",
              "      <td>0.0</td>\n",
              "      <td>8.0</td>\n",
              "      <td>22.5</td>\n",
              "      <td>147400.0</td>\n",
              "      <td>1.0</td>\n",
              "      <td>15.8152</td>\n",
              "      <td>1.0</td>\n",
              "      <td>debt consolidation</td>\n",
              "      <td>Short Term</td>\n",
              "      <td>121396.0</td>\n",
              "      <td>95855.0</td>\n",
              "      <td>11338.0</td>\n",
              "      <td>694.0</td>\n",
              "      <td>0</td>\n",
              "      <td>3</td>\n",
              "    </tr>\n",
              "    <tr>\n",
              "      <th>4</th>\n",
              "      <td>Rent</td>\n",
              "      <td>776264.0</td>\n",
              "      <td>8 years</td>\n",
              "      <td>0.0</td>\n",
              "      <td>13.0</td>\n",
              "      <td>13.6</td>\n",
              "      <td>385836.0</td>\n",
              "      <td>1.0</td>\n",
              "      <td>15.8152</td>\n",
              "      <td>0.0</td>\n",
              "      <td>debt consolidation</td>\n",
              "      <td>Short Term</td>\n",
              "      <td>125840.0</td>\n",
              "      <td>93309.0</td>\n",
              "      <td>7180.0</td>\n",
              "      <td>719.0</td>\n",
              "      <td>0</td>\n",
              "      <td>4</td>\n",
              "    </tr>\n",
              "  </tbody>\n",
              "</table>\n",
              "</div>"
            ],
            "text/plain": [
              "  Home Ownership  Annual Income  ... Credit Default ID\n",
              "0       Own Home       482087.0  ...              0  0\n",
              "1       Own Home      1025487.0  ...              1  1\n",
              "2  Home Mortgage       751412.0  ...              0  2\n",
              "3       Own Home       805068.0  ...              0  3\n",
              "4           Rent       776264.0  ...              0  4\n",
              "\n",
              "[5 rows x 18 columns]"
            ]
          },
          "metadata": {
            "tags": []
          },
          "execution_count": 30
        }
      ]
    },
    {
      "cell_type": "markdown",
      "metadata": {
        "id": "FaiTH8Mo8-ks",
        "colab_type": "text"
      },
      "source": [
        "**Dummies**"
      ]
    },
    {
      "cell_type": "code",
      "metadata": {
        "id": "pkQ1EQ-B88p8",
        "colab_type": "code",
        "colab": {}
      },
      "source": [
        "for cat_colname in df.select_dtypes(include='object').columns[1:]:\n",
        "    df = pd.concat([df, pd.get_dummies(df[cat_colname], prefix=cat_colname)], axis=1)"
      ],
      "execution_count": 0,
      "outputs": []
    },
    {
      "cell_type": "markdown",
      "metadata": {
        "id": "4A-9lwNSOfAd",
        "colab_type": "text"
      },
      "source": [
        "### Сохранение обучающего датасета"
      ]
    },
    {
      "cell_type": "code",
      "metadata": {
        "id": "2brFKh8dOfAe",
        "colab_type": "code",
        "colab": {}
      },
      "source": [
        "df.to_csv(PREP_DATASET_PATH, index=False, encoding='utf-8')"
      ],
      "execution_count": 0,
      "outputs": []
    },
    {
      "cell_type": "code",
      "metadata": {
        "id": "Kzrpk7lpOfAg",
        "colab_type": "code",
        "colab": {}
      },
      "source": [
        ""
      ],
      "execution_count": 0,
      "outputs": []
    },
    {
      "cell_type": "code",
      "metadata": {
        "id": "QvqqBrNrOfAi",
        "colab_type": "code",
        "colab": {}
      },
      "source": [
        ""
      ],
      "execution_count": 0,
      "outputs": []
    }
  ]
}